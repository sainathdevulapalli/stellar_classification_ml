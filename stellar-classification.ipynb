{
 "cells": [
  {
   "cell_type": "code",
   "execution_count": 1,
   "id": "aa99c3b0",
   "metadata": {
    "_cell_guid": "b1076dfc-b9ad-4769-8c92-a6c4dae69d19",
    "_uuid": "8f2839f25d086af736a60e9eeb907d3b93b6e0e5",
    "execution": {
     "iopub.execute_input": "2022-01-17T00:49:00.919198Z",
     "iopub.status.busy": "2022-01-17T00:49:00.918171Z",
     "iopub.status.idle": "2022-01-17T00:49:00.935363Z",
     "shell.execute_reply": "2022-01-17T00:49:00.935821Z",
     "shell.execute_reply.started": "2022-01-17T00:31:32.179497Z"
    },
    "papermill": {
     "duration": 0.055923,
     "end_time": "2022-01-17T00:49:00.936097",
     "exception": false,
     "start_time": "2022-01-17T00:49:00.880174",
     "status": "completed"
    },
    "tags": []
   },
   "outputs": [
    {
     "name": "stdout",
     "output_type": "stream",
     "text": [
      "/kaggle/input/stellar-classification-dataset-sdss17/star_classification.csv\n"
     ]
    }
   ],
   "source": [
    "# This Python 3 environment comes with many helpful analytics libraries installed\n",
    "# It is defined by the kaggle/python Docker image: https://github.com/kaggle/docker-python\n",
    "# For example, here's several helpful packages to load\n",
    "\n",
    "import numpy as np # linear algebra\n",
    "import pandas as pd # data processing, CSV file I/O (e.g. pd.read_csv)\n",
    "\n",
    "# Input data files are available in the read-only \"../input/\" directory\n",
    "# For example, running this (by clicking run or pressing Shift+Enter) will list all files under the input directory\n",
    "\n",
    "import os\n",
    "for dirname, _, filenames in os.walk('/kaggle/input'):\n",
    "    for filename in filenames:\n",
    "        print(os.path.join(dirname, filename))\n",
    "\n",
    "# You can write up to 20GB to the current directory (/kaggle/working/) that gets preserved as output when you create a version using \"Save & Run All\" \n",
    "# You can also write temporary files to /kaggle/temp/, but they won't be saved outside of the current session"
   ]
  },
  {
   "cell_type": "code",
   "execution_count": 2,
   "id": "c4f6fff2",
   "metadata": {
    "execution": {
     "iopub.execute_input": "2022-01-17T00:49:01.008756Z",
     "iopub.status.busy": "2022-01-17T00:49:01.008162Z",
     "iopub.status.idle": "2022-01-17T00:49:01.478396Z",
     "shell.execute_reply": "2022-01-17T00:49:01.478831Z",
     "shell.execute_reply.started": "2022-01-17T00:31:32.221954Z"
    },
    "papermill": {
     "duration": 0.508118,
     "end_time": "2022-01-17T00:49:01.479000",
     "exception": false,
     "start_time": "2022-01-17T00:49:00.970882",
     "status": "completed"
    },
    "tags": []
   },
   "outputs": [
    {
     "data": {
      "text/html": [
       "<div>\n",
       "<style scoped>\n",
       "    .dataframe tbody tr th:only-of-type {\n",
       "        vertical-align: middle;\n",
       "    }\n",
       "\n",
       "    .dataframe tbody tr th {\n",
       "        vertical-align: top;\n",
       "    }\n",
       "\n",
       "    .dataframe thead th {\n",
       "        text-align: right;\n",
       "    }\n",
       "</style>\n",
       "<table border=\"1\" class=\"dataframe\">\n",
       "  <thead>\n",
       "    <tr style=\"text-align: right;\">\n",
       "      <th></th>\n",
       "      <th>obj_ID</th>\n",
       "      <th>alpha</th>\n",
       "      <th>delta</th>\n",
       "      <th>u</th>\n",
       "      <th>g</th>\n",
       "      <th>r</th>\n",
       "      <th>i</th>\n",
       "      <th>z</th>\n",
       "      <th>run_ID</th>\n",
       "      <th>rerun_ID</th>\n",
       "      <th>cam_col</th>\n",
       "      <th>field_ID</th>\n",
       "      <th>spec_obj_ID</th>\n",
       "      <th>class</th>\n",
       "      <th>redshift</th>\n",
       "      <th>plate</th>\n",
       "      <th>MJD</th>\n",
       "      <th>fiber_ID</th>\n",
       "    </tr>\n",
       "  </thead>\n",
       "  <tbody>\n",
       "    <tr>\n",
       "      <th>0</th>\n",
       "      <td>1.237661e+18</td>\n",
       "      <td>135.689107</td>\n",
       "      <td>32.494632</td>\n",
       "      <td>23.87882</td>\n",
       "      <td>22.27530</td>\n",
       "      <td>20.39501</td>\n",
       "      <td>19.16573</td>\n",
       "      <td>18.79371</td>\n",
       "      <td>3606</td>\n",
       "      <td>301</td>\n",
       "      <td>2</td>\n",
       "      <td>79</td>\n",
       "      <td>6.543777e+18</td>\n",
       "      <td>GALAXY</td>\n",
       "      <td>0.634794</td>\n",
       "      <td>5812</td>\n",
       "      <td>56354</td>\n",
       "      <td>171</td>\n",
       "    </tr>\n",
       "    <tr>\n",
       "      <th>1</th>\n",
       "      <td>1.237665e+18</td>\n",
       "      <td>144.826101</td>\n",
       "      <td>31.274185</td>\n",
       "      <td>24.77759</td>\n",
       "      <td>22.83188</td>\n",
       "      <td>22.58444</td>\n",
       "      <td>21.16812</td>\n",
       "      <td>21.61427</td>\n",
       "      <td>4518</td>\n",
       "      <td>301</td>\n",
       "      <td>5</td>\n",
       "      <td>119</td>\n",
       "      <td>1.176014e+19</td>\n",
       "      <td>GALAXY</td>\n",
       "      <td>0.779136</td>\n",
       "      <td>10445</td>\n",
       "      <td>58158</td>\n",
       "      <td>427</td>\n",
       "    </tr>\n",
       "    <tr>\n",
       "      <th>2</th>\n",
       "      <td>1.237661e+18</td>\n",
       "      <td>142.188790</td>\n",
       "      <td>35.582444</td>\n",
       "      <td>25.26307</td>\n",
       "      <td>22.66389</td>\n",
       "      <td>20.60976</td>\n",
       "      <td>19.34857</td>\n",
       "      <td>18.94827</td>\n",
       "      <td>3606</td>\n",
       "      <td>301</td>\n",
       "      <td>2</td>\n",
       "      <td>120</td>\n",
       "      <td>5.152200e+18</td>\n",
       "      <td>GALAXY</td>\n",
       "      <td>0.644195</td>\n",
       "      <td>4576</td>\n",
       "      <td>55592</td>\n",
       "      <td>299</td>\n",
       "    </tr>\n",
       "    <tr>\n",
       "      <th>3</th>\n",
       "      <td>1.237663e+18</td>\n",
       "      <td>338.741038</td>\n",
       "      <td>-0.402828</td>\n",
       "      <td>22.13682</td>\n",
       "      <td>23.77656</td>\n",
       "      <td>21.61162</td>\n",
       "      <td>20.50454</td>\n",
       "      <td>19.25010</td>\n",
       "      <td>4192</td>\n",
       "      <td>301</td>\n",
       "      <td>3</td>\n",
       "      <td>214</td>\n",
       "      <td>1.030107e+19</td>\n",
       "      <td>GALAXY</td>\n",
       "      <td>0.932346</td>\n",
       "      <td>9149</td>\n",
       "      <td>58039</td>\n",
       "      <td>775</td>\n",
       "    </tr>\n",
       "    <tr>\n",
       "      <th>4</th>\n",
       "      <td>1.237680e+18</td>\n",
       "      <td>345.282593</td>\n",
       "      <td>21.183866</td>\n",
       "      <td>19.43718</td>\n",
       "      <td>17.58028</td>\n",
       "      <td>16.49747</td>\n",
       "      <td>15.97711</td>\n",
       "      <td>15.54461</td>\n",
       "      <td>8102</td>\n",
       "      <td>301</td>\n",
       "      <td>3</td>\n",
       "      <td>137</td>\n",
       "      <td>6.891865e+18</td>\n",
       "      <td>GALAXY</td>\n",
       "      <td>0.116123</td>\n",
       "      <td>6121</td>\n",
       "      <td>56187</td>\n",
       "      <td>842</td>\n",
       "    </tr>\n",
       "  </tbody>\n",
       "</table>\n",
       "</div>"
      ],
      "text/plain": [
       "         obj_ID       alpha      delta         u         g         r  \\\n",
       "0  1.237661e+18  135.689107  32.494632  23.87882  22.27530  20.39501   \n",
       "1  1.237665e+18  144.826101  31.274185  24.77759  22.83188  22.58444   \n",
       "2  1.237661e+18  142.188790  35.582444  25.26307  22.66389  20.60976   \n",
       "3  1.237663e+18  338.741038  -0.402828  22.13682  23.77656  21.61162   \n",
       "4  1.237680e+18  345.282593  21.183866  19.43718  17.58028  16.49747   \n",
       "\n",
       "          i         z  run_ID  rerun_ID  cam_col  field_ID   spec_obj_ID  \\\n",
       "0  19.16573  18.79371    3606       301        2        79  6.543777e+18   \n",
       "1  21.16812  21.61427    4518       301        5       119  1.176014e+19   \n",
       "2  19.34857  18.94827    3606       301        2       120  5.152200e+18   \n",
       "3  20.50454  19.25010    4192       301        3       214  1.030107e+19   \n",
       "4  15.97711  15.54461    8102       301        3       137  6.891865e+18   \n",
       "\n",
       "    class  redshift  plate    MJD  fiber_ID  \n",
       "0  GALAXY  0.634794   5812  56354       171  \n",
       "1  GALAXY  0.779136  10445  58158       427  \n",
       "2  GALAXY  0.644195   4576  55592       299  \n",
       "3  GALAXY  0.932346   9149  58039       775  \n",
       "4  GALAXY  0.116123   6121  56187       842  "
      ]
     },
     "execution_count": 2,
     "metadata": {},
     "output_type": "execute_result"
    }
   ],
   "source": [
    "df = pd.read_csv('/kaggle/input/stellar-classification-dataset-sdss17/star_classification.csv')\n",
    "df.head()"
   ]
  },
  {
   "cell_type": "code",
   "execution_count": 3,
   "id": "a26dc97d",
   "metadata": {
    "execution": {
     "iopub.execute_input": "2022-01-17T00:49:01.549418Z",
     "iopub.status.busy": "2022-01-17T00:49:01.548684Z",
     "iopub.status.idle": "2022-01-17T00:49:01.555492Z",
     "shell.execute_reply": "2022-01-17T00:49:01.556030Z",
     "shell.execute_reply.started": "2022-01-17T00:31:32.784770Z"
    },
    "papermill": {
     "duration": 0.044261,
     "end_time": "2022-01-17T00:49:01.556225",
     "exception": false,
     "start_time": "2022-01-17T00:49:01.511964",
     "status": "completed"
    },
    "tags": []
   },
   "outputs": [
    {
     "data": {
      "text/plain": [
       "(100000, 18)"
      ]
     },
     "execution_count": 3,
     "metadata": {},
     "output_type": "execute_result"
    }
   ],
   "source": [
    "df.shape"
   ]
  },
  {
   "cell_type": "code",
   "execution_count": 4,
   "id": "cdef12a4",
   "metadata": {
    "execution": {
     "iopub.execute_input": "2022-01-17T00:49:01.634610Z",
     "iopub.status.busy": "2022-01-17T00:49:01.634024Z",
     "iopub.status.idle": "2022-01-17T00:49:01.751755Z",
     "shell.execute_reply": "2022-01-17T00:49:01.751328Z",
     "shell.execute_reply.started": "2022-01-17T00:31:32.791884Z"
    },
    "papermill": {
     "duration": 0.157767,
     "end_time": "2022-01-17T00:49:01.751911",
     "exception": false,
     "start_time": "2022-01-17T00:49:01.594144",
     "status": "completed"
    },
    "tags": []
   },
   "outputs": [
    {
     "data": {
      "text/html": [
       "<div>\n",
       "<style scoped>\n",
       "    .dataframe tbody tr th:only-of-type {\n",
       "        vertical-align: middle;\n",
       "    }\n",
       "\n",
       "    .dataframe tbody tr th {\n",
       "        vertical-align: top;\n",
       "    }\n",
       "\n",
       "    .dataframe thead th {\n",
       "        text-align: right;\n",
       "    }\n",
       "</style>\n",
       "<table border=\"1\" class=\"dataframe\">\n",
       "  <thead>\n",
       "    <tr style=\"text-align: right;\">\n",
       "      <th></th>\n",
       "      <th>obj_ID</th>\n",
       "      <th>alpha</th>\n",
       "      <th>delta</th>\n",
       "      <th>u</th>\n",
       "      <th>g</th>\n",
       "      <th>r</th>\n",
       "      <th>i</th>\n",
       "      <th>z</th>\n",
       "      <th>run_ID</th>\n",
       "      <th>rerun_ID</th>\n",
       "      <th>cam_col</th>\n",
       "      <th>field_ID</th>\n",
       "      <th>spec_obj_ID</th>\n",
       "      <th>redshift</th>\n",
       "      <th>plate</th>\n",
       "      <th>MJD</th>\n",
       "      <th>fiber_ID</th>\n",
       "    </tr>\n",
       "  </thead>\n",
       "  <tbody>\n",
       "    <tr>\n",
       "      <th>count</th>\n",
       "      <td>1.000000e+05</td>\n",
       "      <td>100000.000000</td>\n",
       "      <td>100000.000000</td>\n",
       "      <td>100000.000000</td>\n",
       "      <td>100000.000000</td>\n",
       "      <td>100000.000000</td>\n",
       "      <td>100000.000000</td>\n",
       "      <td>100000.000000</td>\n",
       "      <td>100000.000000</td>\n",
       "      <td>100000.0</td>\n",
       "      <td>100000.000000</td>\n",
       "      <td>100000.000000</td>\n",
       "      <td>1.000000e+05</td>\n",
       "      <td>100000.000000</td>\n",
       "      <td>100000.000000</td>\n",
       "      <td>100000.000000</td>\n",
       "      <td>100000.000000</td>\n",
       "    </tr>\n",
       "    <tr>\n",
       "      <th>mean</th>\n",
       "      <td>1.237665e+18</td>\n",
       "      <td>177.629117</td>\n",
       "      <td>24.135305</td>\n",
       "      <td>21.980468</td>\n",
       "      <td>20.531387</td>\n",
       "      <td>19.645762</td>\n",
       "      <td>19.084854</td>\n",
       "      <td>18.668810</td>\n",
       "      <td>4481.366060</td>\n",
       "      <td>301.0</td>\n",
       "      <td>3.511610</td>\n",
       "      <td>186.130520</td>\n",
       "      <td>5.783882e+18</td>\n",
       "      <td>0.576661</td>\n",
       "      <td>5137.009660</td>\n",
       "      <td>55588.647500</td>\n",
       "      <td>449.312740</td>\n",
       "    </tr>\n",
       "    <tr>\n",
       "      <th>std</th>\n",
       "      <td>8.438560e+12</td>\n",
       "      <td>96.502241</td>\n",
       "      <td>19.644665</td>\n",
       "      <td>31.769291</td>\n",
       "      <td>31.750292</td>\n",
       "      <td>1.854760</td>\n",
       "      <td>1.757895</td>\n",
       "      <td>31.728152</td>\n",
       "      <td>1964.764593</td>\n",
       "      <td>0.0</td>\n",
       "      <td>1.586912</td>\n",
       "      <td>149.011073</td>\n",
       "      <td>3.324016e+18</td>\n",
       "      <td>0.730707</td>\n",
       "      <td>2952.303351</td>\n",
       "      <td>1808.484233</td>\n",
       "      <td>272.498404</td>\n",
       "    </tr>\n",
       "    <tr>\n",
       "      <th>min</th>\n",
       "      <td>1.237646e+18</td>\n",
       "      <td>0.005528</td>\n",
       "      <td>-18.785328</td>\n",
       "      <td>-9999.000000</td>\n",
       "      <td>-9999.000000</td>\n",
       "      <td>9.822070</td>\n",
       "      <td>9.469903</td>\n",
       "      <td>-9999.000000</td>\n",
       "      <td>109.000000</td>\n",
       "      <td>301.0</td>\n",
       "      <td>1.000000</td>\n",
       "      <td>11.000000</td>\n",
       "      <td>2.995191e+17</td>\n",
       "      <td>-0.009971</td>\n",
       "      <td>266.000000</td>\n",
       "      <td>51608.000000</td>\n",
       "      <td>1.000000</td>\n",
       "    </tr>\n",
       "    <tr>\n",
       "      <th>25%</th>\n",
       "      <td>1.237659e+18</td>\n",
       "      <td>127.518222</td>\n",
       "      <td>5.146771</td>\n",
       "      <td>20.352353</td>\n",
       "      <td>18.965230</td>\n",
       "      <td>18.135828</td>\n",
       "      <td>17.732285</td>\n",
       "      <td>17.460677</td>\n",
       "      <td>3187.000000</td>\n",
       "      <td>301.0</td>\n",
       "      <td>2.000000</td>\n",
       "      <td>82.000000</td>\n",
       "      <td>2.844138e+18</td>\n",
       "      <td>0.054517</td>\n",
       "      <td>2526.000000</td>\n",
       "      <td>54234.000000</td>\n",
       "      <td>221.000000</td>\n",
       "    </tr>\n",
       "    <tr>\n",
       "      <th>50%</th>\n",
       "      <td>1.237663e+18</td>\n",
       "      <td>180.900700</td>\n",
       "      <td>23.645922</td>\n",
       "      <td>22.179135</td>\n",
       "      <td>21.099835</td>\n",
       "      <td>20.125290</td>\n",
       "      <td>19.405145</td>\n",
       "      <td>19.004595</td>\n",
       "      <td>4188.000000</td>\n",
       "      <td>301.0</td>\n",
       "      <td>4.000000</td>\n",
       "      <td>146.000000</td>\n",
       "      <td>5.614883e+18</td>\n",
       "      <td>0.424173</td>\n",
       "      <td>4987.000000</td>\n",
       "      <td>55868.500000</td>\n",
       "      <td>433.000000</td>\n",
       "    </tr>\n",
       "    <tr>\n",
       "      <th>75%</th>\n",
       "      <td>1.237668e+18</td>\n",
       "      <td>233.895005</td>\n",
       "      <td>39.901550</td>\n",
       "      <td>23.687440</td>\n",
       "      <td>22.123767</td>\n",
       "      <td>21.044785</td>\n",
       "      <td>20.396495</td>\n",
       "      <td>19.921120</td>\n",
       "      <td>5326.000000</td>\n",
       "      <td>301.0</td>\n",
       "      <td>5.000000</td>\n",
       "      <td>241.000000</td>\n",
       "      <td>8.332144e+18</td>\n",
       "      <td>0.704154</td>\n",
       "      <td>7400.250000</td>\n",
       "      <td>56777.000000</td>\n",
       "      <td>645.000000</td>\n",
       "    </tr>\n",
       "    <tr>\n",
       "      <th>max</th>\n",
       "      <td>1.237681e+18</td>\n",
       "      <td>359.999810</td>\n",
       "      <td>83.000519</td>\n",
       "      <td>32.781390</td>\n",
       "      <td>31.602240</td>\n",
       "      <td>29.571860</td>\n",
       "      <td>32.141470</td>\n",
       "      <td>29.383740</td>\n",
       "      <td>8162.000000</td>\n",
       "      <td>301.0</td>\n",
       "      <td>6.000000</td>\n",
       "      <td>989.000000</td>\n",
       "      <td>1.412694e+19</td>\n",
       "      <td>7.011245</td>\n",
       "      <td>12547.000000</td>\n",
       "      <td>58932.000000</td>\n",
       "      <td>1000.000000</td>\n",
       "    </tr>\n",
       "  </tbody>\n",
       "</table>\n",
       "</div>"
      ],
      "text/plain": [
       "             obj_ID          alpha          delta              u  \\\n",
       "count  1.000000e+05  100000.000000  100000.000000  100000.000000   \n",
       "mean   1.237665e+18     177.629117      24.135305      21.980468   \n",
       "std    8.438560e+12      96.502241      19.644665      31.769291   \n",
       "min    1.237646e+18       0.005528     -18.785328   -9999.000000   \n",
       "25%    1.237659e+18     127.518222       5.146771      20.352353   \n",
       "50%    1.237663e+18     180.900700      23.645922      22.179135   \n",
       "75%    1.237668e+18     233.895005      39.901550      23.687440   \n",
       "max    1.237681e+18     359.999810      83.000519      32.781390   \n",
       "\n",
       "                   g              r              i              z  \\\n",
       "count  100000.000000  100000.000000  100000.000000  100000.000000   \n",
       "mean       20.531387      19.645762      19.084854      18.668810   \n",
       "std        31.750292       1.854760       1.757895      31.728152   \n",
       "min     -9999.000000       9.822070       9.469903   -9999.000000   \n",
       "25%        18.965230      18.135828      17.732285      17.460677   \n",
       "50%        21.099835      20.125290      19.405145      19.004595   \n",
       "75%        22.123767      21.044785      20.396495      19.921120   \n",
       "max        31.602240      29.571860      32.141470      29.383740   \n",
       "\n",
       "              run_ID  rerun_ID        cam_col       field_ID   spec_obj_ID  \\\n",
       "count  100000.000000  100000.0  100000.000000  100000.000000  1.000000e+05   \n",
       "mean     4481.366060     301.0       3.511610     186.130520  5.783882e+18   \n",
       "std      1964.764593       0.0       1.586912     149.011073  3.324016e+18   \n",
       "min       109.000000     301.0       1.000000      11.000000  2.995191e+17   \n",
       "25%      3187.000000     301.0       2.000000      82.000000  2.844138e+18   \n",
       "50%      4188.000000     301.0       4.000000     146.000000  5.614883e+18   \n",
       "75%      5326.000000     301.0       5.000000     241.000000  8.332144e+18   \n",
       "max      8162.000000     301.0       6.000000     989.000000  1.412694e+19   \n",
       "\n",
       "            redshift          plate            MJD       fiber_ID  \n",
       "count  100000.000000  100000.000000  100000.000000  100000.000000  \n",
       "mean        0.576661    5137.009660   55588.647500     449.312740  \n",
       "std         0.730707    2952.303351    1808.484233     272.498404  \n",
       "min        -0.009971     266.000000   51608.000000       1.000000  \n",
       "25%         0.054517    2526.000000   54234.000000     221.000000  \n",
       "50%         0.424173    4987.000000   55868.500000     433.000000  \n",
       "75%         0.704154    7400.250000   56777.000000     645.000000  \n",
       "max         7.011245   12547.000000   58932.000000    1000.000000  "
      ]
     },
     "execution_count": 4,
     "metadata": {},
     "output_type": "execute_result"
    }
   ],
   "source": [
    "df.describe()"
   ]
  },
  {
   "cell_type": "code",
   "execution_count": 5,
   "id": "f1bbb7c1",
   "metadata": {
    "execution": {
     "iopub.execute_input": "2022-01-17T00:49:01.824622Z",
     "iopub.status.busy": "2022-01-17T00:49:01.824047Z",
     "iopub.status.idle": "2022-01-17T00:49:01.837595Z",
     "shell.execute_reply": "2022-01-17T00:49:01.837139Z",
     "shell.execute_reply.started": "2022-01-17T00:31:32.896622Z"
    },
    "papermill": {
     "duration": 0.051702,
     "end_time": "2022-01-17T00:49:01.837721",
     "exception": false,
     "start_time": "2022-01-17T00:49:01.786019",
     "status": "completed"
    },
    "tags": []
   },
   "outputs": [
    {
     "data": {
      "text/plain": [
       "obj_ID         0\n",
       "alpha          0\n",
       "delta          0\n",
       "u              0\n",
       "g              0\n",
       "r              0\n",
       "i              0\n",
       "z              0\n",
       "run_ID         0\n",
       "rerun_ID       0\n",
       "cam_col        0\n",
       "field_ID       0\n",
       "spec_obj_ID    0\n",
       "class          0\n",
       "redshift       0\n",
       "plate          0\n",
       "MJD            0\n",
       "fiber_ID       0\n",
       "dtype: int64"
      ]
     },
     "execution_count": 5,
     "metadata": {},
     "output_type": "execute_result"
    }
   ],
   "source": [
    "df.isna().sum()"
   ]
  },
  {
   "cell_type": "code",
   "execution_count": 6,
   "id": "3feb85f1",
   "metadata": {
    "execution": {
     "iopub.execute_input": "2022-01-17T00:49:01.910891Z",
     "iopub.status.busy": "2022-01-17T00:49:01.910311Z",
     "iopub.status.idle": "2022-01-17T00:49:01.916165Z",
     "shell.execute_reply": "2022-01-17T00:49:01.916599Z",
     "shell.execute_reply.started": "2022-01-17T00:31:32.912732Z"
    },
    "papermill": {
     "duration": 0.044177,
     "end_time": "2022-01-17T00:49:01.916752",
     "exception": false,
     "start_time": "2022-01-17T00:49:01.872575",
     "status": "completed"
    },
    "tags": []
   },
   "outputs": [
    {
     "data": {
      "text/plain": [
       "obj_ID         float64\n",
       "alpha          float64\n",
       "delta          float64\n",
       "u              float64\n",
       "g              float64\n",
       "r              float64\n",
       "i              float64\n",
       "z              float64\n",
       "run_ID           int64\n",
       "rerun_ID         int64\n",
       "cam_col          int64\n",
       "field_ID         int64\n",
       "spec_obj_ID    float64\n",
       "class           object\n",
       "redshift       float64\n",
       "plate            int64\n",
       "MJD              int64\n",
       "fiber_ID         int64\n",
       "dtype: object"
      ]
     },
     "execution_count": 6,
     "metadata": {},
     "output_type": "execute_result"
    }
   ],
   "source": [
    "df.dtypes"
   ]
  },
  {
   "cell_type": "code",
   "execution_count": 7,
   "id": "8620bfdc",
   "metadata": {
    "execution": {
     "iopub.execute_input": "2022-01-17T00:49:01.989301Z",
     "iopub.status.busy": "2022-01-17T00:49:01.988652Z",
     "iopub.status.idle": "2022-01-17T00:49:01.999378Z",
     "shell.execute_reply": "2022-01-17T00:49:01.999838Z",
     "shell.execute_reply.started": "2022-01-17T00:31:32.920633Z"
    },
    "papermill": {
     "duration": 0.048679,
     "end_time": "2022-01-17T00:49:02.000003",
     "exception": false,
     "start_time": "2022-01-17T00:49:01.951324",
     "status": "completed"
    },
    "tags": []
   },
   "outputs": [
    {
     "data": {
      "text/plain": [
       "array(['GALAXY', 'QSO', 'STAR'], dtype=object)"
      ]
     },
     "execution_count": 7,
     "metadata": {},
     "output_type": "execute_result"
    }
   ],
   "source": [
    "df['class'].unique()"
   ]
  },
  {
   "cell_type": "code",
   "execution_count": 8,
   "id": "5cb834ad",
   "metadata": {
    "execution": {
     "iopub.execute_input": "2022-01-17T00:49:02.073138Z",
     "iopub.status.busy": "2022-01-17T00:49:02.072520Z",
     "iopub.status.idle": "2022-01-17T00:49:02.084232Z",
     "shell.execute_reply": "2022-01-17T00:49:02.084715Z",
     "shell.execute_reply.started": "2022-01-17T00:31:32.941999Z"
    },
    "papermill": {
     "duration": 0.05033,
     "end_time": "2022-01-17T00:49:02.084900",
     "exception": false,
     "start_time": "2022-01-17T00:49:02.034570",
     "status": "completed"
    },
    "tags": []
   },
   "outputs": [
    {
     "data": {
      "text/plain": [
       "GALAXY    59445\n",
       "STAR      21594\n",
       "QSO       18961\n",
       "Name: class, dtype: int64"
      ]
     },
     "execution_count": 8,
     "metadata": {},
     "output_type": "execute_result"
    }
   ],
   "source": [
    "df['class'].value_counts()"
   ]
  },
  {
   "cell_type": "code",
   "execution_count": 9,
   "id": "f28987c4",
   "metadata": {
    "execution": {
     "iopub.execute_input": "2022-01-17T00:49:02.160428Z",
     "iopub.status.busy": "2022-01-17T00:49:02.159856Z",
     "iopub.status.idle": "2022-01-17T00:49:02.173355Z",
     "shell.execute_reply": "2022-01-17T00:49:02.173874Z",
     "shell.execute_reply.started": "2022-01-17T00:31:32.969709Z"
    },
    "papermill": {
     "duration": 0.053679,
     "end_time": "2022-01-17T00:49:02.174034",
     "exception": false,
     "start_time": "2022-01-17T00:49:02.120355",
     "status": "completed"
    },
    "tags": []
   },
   "outputs": [
    {
     "data": {
      "text/html": [
       "<div>\n",
       "<style scoped>\n",
       "    .dataframe tbody tr th:only-of-type {\n",
       "        vertical-align: middle;\n",
       "    }\n",
       "\n",
       "    .dataframe tbody tr th {\n",
       "        vertical-align: top;\n",
       "    }\n",
       "\n",
       "    .dataframe thead th {\n",
       "        text-align: right;\n",
       "    }\n",
       "</style>\n",
       "<table border=\"1\" class=\"dataframe\">\n",
       "  <thead>\n",
       "    <tr style=\"text-align: right;\">\n",
       "      <th></th>\n",
       "      <th>obj_ID</th>\n",
       "      <th>alpha</th>\n",
       "      <th>delta</th>\n",
       "      <th>u</th>\n",
       "      <th>g</th>\n",
       "      <th>r</th>\n",
       "      <th>i</th>\n",
       "      <th>z</th>\n",
       "      <th>run_ID</th>\n",
       "      <th>rerun_ID</th>\n",
       "      <th>cam_col</th>\n",
       "      <th>field_ID</th>\n",
       "      <th>spec_obj_ID</th>\n",
       "      <th>class</th>\n",
       "      <th>redshift</th>\n",
       "      <th>plate</th>\n",
       "      <th>MJD</th>\n",
       "      <th>fiber_ID</th>\n",
       "    </tr>\n",
       "  </thead>\n",
       "  <tbody>\n",
       "    <tr>\n",
       "      <th>79543</th>\n",
       "      <td>1.237649e+18</td>\n",
       "      <td>224.006526</td>\n",
       "      <td>-0.624304</td>\n",
       "      <td>-9999.0</td>\n",
       "      <td>-9999.0</td>\n",
       "      <td>18.1656</td>\n",
       "      <td>18.01675</td>\n",
       "      <td>-9999.0</td>\n",
       "      <td>752</td>\n",
       "      <td>301</td>\n",
       "      <td>2</td>\n",
       "      <td>537</td>\n",
       "      <td>3.731277e+18</td>\n",
       "      <td>STAR</td>\n",
       "      <td>0.000089</td>\n",
       "      <td>3314</td>\n",
       "      <td>54970</td>\n",
       "      <td>162</td>\n",
       "    </tr>\n",
       "  </tbody>\n",
       "</table>\n",
       "</div>"
      ],
      "text/plain": [
       "             obj_ID       alpha     delta       u       g        r         i  \\\n",
       "79543  1.237649e+18  224.006526 -0.624304 -9999.0 -9999.0  18.1656  18.01675   \n",
       "\n",
       "            z  run_ID  rerun_ID  cam_col  field_ID   spec_obj_ID class  \\\n",
       "79543 -9999.0     752       301        2       537  3.731277e+18  STAR   \n",
       "\n",
       "       redshift  plate    MJD  fiber_ID  \n",
       "79543  0.000089   3314  54970       162  "
      ]
     },
     "execution_count": 9,
     "metadata": {},
     "output_type": "execute_result"
    }
   ],
   "source": [
    "odd = df.loc[df['u'] == -9999]\n",
    "odd"
   ]
  },
  {
   "cell_type": "code",
   "execution_count": 10,
   "id": "c476ea7d",
   "metadata": {
    "execution": {
     "iopub.execute_input": "2022-01-17T00:49:02.248033Z",
     "iopub.status.busy": "2022-01-17T00:49:02.247429Z",
     "iopub.status.idle": "2022-01-17T00:49:02.262316Z",
     "shell.execute_reply": "2022-01-17T00:49:02.262772Z",
     "shell.execute_reply.started": "2022-01-17T00:31:33.001831Z"
    },
    "papermill": {
     "duration": 0.053475,
     "end_time": "2022-01-17T00:49:02.262939",
     "exception": false,
     "start_time": "2022-01-17T00:49:02.209464",
     "status": "completed"
    },
    "tags": []
   },
   "outputs": [
    {
     "data": {
      "text/html": [
       "<div>\n",
       "<style scoped>\n",
       "    .dataframe tbody tr th:only-of-type {\n",
       "        vertical-align: middle;\n",
       "    }\n",
       "\n",
       "    .dataframe tbody tr th {\n",
       "        vertical-align: top;\n",
       "    }\n",
       "\n",
       "    .dataframe thead th {\n",
       "        text-align: right;\n",
       "    }\n",
       "</style>\n",
       "<table border=\"1\" class=\"dataframe\">\n",
       "  <thead>\n",
       "    <tr style=\"text-align: right;\">\n",
       "      <th></th>\n",
       "      <th>obj_ID</th>\n",
       "      <th>alpha</th>\n",
       "      <th>delta</th>\n",
       "      <th>u</th>\n",
       "      <th>g</th>\n",
       "      <th>r</th>\n",
       "      <th>i</th>\n",
       "      <th>z</th>\n",
       "      <th>run_ID</th>\n",
       "      <th>rerun_ID</th>\n",
       "      <th>cam_col</th>\n",
       "      <th>field_ID</th>\n",
       "      <th>spec_obj_ID</th>\n",
       "      <th>class</th>\n",
       "      <th>redshift</th>\n",
       "      <th>plate</th>\n",
       "      <th>MJD</th>\n",
       "      <th>fiber_ID</th>\n",
       "    </tr>\n",
       "  </thead>\n",
       "  <tbody>\n",
       "    <tr>\n",
       "      <th>79543</th>\n",
       "      <td>1.237649e+18</td>\n",
       "      <td>224.006526</td>\n",
       "      <td>-0.624304</td>\n",
       "      <td>-9999.0</td>\n",
       "      <td>-9999.0</td>\n",
       "      <td>18.1656</td>\n",
       "      <td>18.01675</td>\n",
       "      <td>-9999.0</td>\n",
       "      <td>752</td>\n",
       "      <td>301</td>\n",
       "      <td>2</td>\n",
       "      <td>537</td>\n",
       "      <td>3.731277e+18</td>\n",
       "      <td>STAR</td>\n",
       "      <td>0.000089</td>\n",
       "      <td>3314</td>\n",
       "      <td>54970</td>\n",
       "      <td>162</td>\n",
       "    </tr>\n",
       "  </tbody>\n",
       "</table>\n",
       "</div>"
      ],
      "text/plain": [
       "             obj_ID       alpha     delta       u       g        r         i  \\\n",
       "79543  1.237649e+18  224.006526 -0.624304 -9999.0 -9999.0  18.1656  18.01675   \n",
       "\n",
       "            z  run_ID  rerun_ID  cam_col  field_ID   spec_obj_ID class  \\\n",
       "79543 -9999.0     752       301        2       537  3.731277e+18  STAR   \n",
       "\n",
       "       redshift  plate    MJD  fiber_ID  \n",
       "79543  0.000089   3314  54970       162  "
      ]
     },
     "execution_count": 10,
     "metadata": {},
     "output_type": "execute_result"
    }
   ],
   "source": [
    "odd2 = df.loc[df['g'] == -9999]\n",
    "odd2"
   ]
  },
  {
   "cell_type": "code",
   "execution_count": 11,
   "id": "c709360d",
   "metadata": {
    "execution": {
     "iopub.execute_input": "2022-01-17T00:49:02.337611Z",
     "iopub.status.busy": "2022-01-17T00:49:02.337066Z",
     "iopub.status.idle": "2022-01-17T00:49:02.352364Z",
     "shell.execute_reply": "2022-01-17T00:49:02.352792Z",
     "shell.execute_reply.started": "2022-01-17T00:31:33.018358Z"
    },
    "papermill": {
     "duration": 0.05438,
     "end_time": "2022-01-17T00:49:02.352964",
     "exception": false,
     "start_time": "2022-01-17T00:49:02.298584",
     "status": "completed"
    },
    "tags": []
   },
   "outputs": [
    {
     "data": {
      "text/html": [
       "<div>\n",
       "<style scoped>\n",
       "    .dataframe tbody tr th:only-of-type {\n",
       "        vertical-align: middle;\n",
       "    }\n",
       "\n",
       "    .dataframe tbody tr th {\n",
       "        vertical-align: top;\n",
       "    }\n",
       "\n",
       "    .dataframe thead th {\n",
       "        text-align: right;\n",
       "    }\n",
       "</style>\n",
       "<table border=\"1\" class=\"dataframe\">\n",
       "  <thead>\n",
       "    <tr style=\"text-align: right;\">\n",
       "      <th></th>\n",
       "      <th>obj_ID</th>\n",
       "      <th>alpha</th>\n",
       "      <th>delta</th>\n",
       "      <th>u</th>\n",
       "      <th>g</th>\n",
       "      <th>r</th>\n",
       "      <th>i</th>\n",
       "      <th>z</th>\n",
       "      <th>run_ID</th>\n",
       "      <th>rerun_ID</th>\n",
       "      <th>cam_col</th>\n",
       "      <th>field_ID</th>\n",
       "      <th>spec_obj_ID</th>\n",
       "      <th>class</th>\n",
       "      <th>redshift</th>\n",
       "      <th>plate</th>\n",
       "      <th>MJD</th>\n",
       "      <th>fiber_ID</th>\n",
       "    </tr>\n",
       "  </thead>\n",
       "  <tbody>\n",
       "    <tr>\n",
       "      <th>79543</th>\n",
       "      <td>1.237649e+18</td>\n",
       "      <td>224.006526</td>\n",
       "      <td>-0.624304</td>\n",
       "      <td>-9999.0</td>\n",
       "      <td>-9999.0</td>\n",
       "      <td>18.1656</td>\n",
       "      <td>18.01675</td>\n",
       "      <td>-9999.0</td>\n",
       "      <td>752</td>\n",
       "      <td>301</td>\n",
       "      <td>2</td>\n",
       "      <td>537</td>\n",
       "      <td>3.731277e+18</td>\n",
       "      <td>STAR</td>\n",
       "      <td>0.000089</td>\n",
       "      <td>3314</td>\n",
       "      <td>54970</td>\n",
       "      <td>162</td>\n",
       "    </tr>\n",
       "  </tbody>\n",
       "</table>\n",
       "</div>"
      ],
      "text/plain": [
       "             obj_ID       alpha     delta       u       g        r         i  \\\n",
       "79543  1.237649e+18  224.006526 -0.624304 -9999.0 -9999.0  18.1656  18.01675   \n",
       "\n",
       "            z  run_ID  rerun_ID  cam_col  field_ID   spec_obj_ID class  \\\n",
       "79543 -9999.0     752       301        2       537  3.731277e+18  STAR   \n",
       "\n",
       "       redshift  plate    MJD  fiber_ID  \n",
       "79543  0.000089   3314  54970       162  "
      ]
     },
     "execution_count": 11,
     "metadata": {},
     "output_type": "execute_result"
    }
   ],
   "source": [
    "odd3 = df.loc[df['z'] == -9999]\n",
    "odd3"
   ]
  },
  {
   "cell_type": "code",
   "execution_count": 12,
   "id": "a97b0553",
   "metadata": {
    "execution": {
     "iopub.execute_input": "2022-01-17T00:49:02.428217Z",
     "iopub.status.busy": "2022-01-17T00:49:02.427637Z",
     "iopub.status.idle": "2022-01-17T00:49:02.439162Z",
     "shell.execute_reply": "2022-01-17T00:49:02.439575Z",
     "shell.execute_reply.started": "2022-01-17T00:31:33.051547Z"
    },
    "papermill": {
     "duration": 0.050461,
     "end_time": "2022-01-17T00:49:02.439727",
     "exception": false,
     "start_time": "2022-01-17T00:49:02.389266",
     "status": "completed"
    },
    "tags": []
   },
   "outputs": [
    {
     "data": {
      "text/plain": [
       "(99999, 18)"
      ]
     },
     "execution_count": 12,
     "metadata": {},
     "output_type": "execute_result"
    }
   ],
   "source": [
    "df = df.drop(df.index[79543], axis=0)\n",
    "df.shape"
   ]
  },
  {
   "cell_type": "code",
   "execution_count": 13,
   "id": "fca85c2b",
   "metadata": {
    "execution": {
     "iopub.execute_input": "2022-01-17T00:49:02.516574Z",
     "iopub.status.busy": "2022-01-17T00:49:02.515994Z",
     "iopub.status.idle": "2022-01-17T00:49:02.525845Z",
     "shell.execute_reply": "2022-01-17T00:49:02.526252Z",
     "shell.execute_reply.started": "2022-01-17T00:31:33.070278Z"
    },
    "papermill": {
     "duration": 0.050797,
     "end_time": "2022-01-17T00:49:02.526413",
     "exception": false,
     "start_time": "2022-01-17T00:49:02.475616",
     "status": "completed"
    },
    "tags": []
   },
   "outputs": [
    {
     "data": {
      "text/html": [
       "<div>\n",
       "<style scoped>\n",
       "    .dataframe tbody tr th:only-of-type {\n",
       "        vertical-align: middle;\n",
       "    }\n",
       "\n",
       "    .dataframe tbody tr th {\n",
       "        vertical-align: top;\n",
       "    }\n",
       "\n",
       "    .dataframe thead th {\n",
       "        text-align: right;\n",
       "    }\n",
       "</style>\n",
       "<table border=\"1\" class=\"dataframe\">\n",
       "  <thead>\n",
       "    <tr style=\"text-align: right;\">\n",
       "      <th></th>\n",
       "      <th>obj_ID</th>\n",
       "      <th>alpha</th>\n",
       "      <th>delta</th>\n",
       "      <th>u</th>\n",
       "      <th>g</th>\n",
       "      <th>r</th>\n",
       "      <th>i</th>\n",
       "      <th>z</th>\n",
       "      <th>run_ID</th>\n",
       "      <th>rerun_ID</th>\n",
       "      <th>cam_col</th>\n",
       "      <th>field_ID</th>\n",
       "      <th>spec_obj_ID</th>\n",
       "      <th>class</th>\n",
       "      <th>redshift</th>\n",
       "      <th>plate</th>\n",
       "      <th>MJD</th>\n",
       "      <th>fiber_ID</th>\n",
       "    </tr>\n",
       "  </thead>\n",
       "  <tbody>\n",
       "  </tbody>\n",
       "</table>\n",
       "</div>"
      ],
      "text/plain": [
       "Empty DataFrame\n",
       "Columns: [obj_ID, alpha, delta, u, g, r, i, z, run_ID, rerun_ID, cam_col, field_ID, spec_obj_ID, class, redshift, plate, MJD, fiber_ID]\n",
       "Index: []"
      ]
     },
     "execution_count": 13,
     "metadata": {},
     "output_type": "execute_result"
    }
   ],
   "source": [
    "df.loc[df['u'] == -9999]"
   ]
  },
  {
   "cell_type": "code",
   "execution_count": 14,
   "id": "3e2f00d1",
   "metadata": {
    "execution": {
     "iopub.execute_input": "2022-01-17T00:49:02.605920Z",
     "iopub.status.busy": "2022-01-17T00:49:02.605297Z",
     "iopub.status.idle": "2022-01-17T00:49:02.613569Z",
     "shell.execute_reply": "2022-01-17T00:49:02.613109Z",
     "shell.execute_reply.started": "2022-01-17T00:31:33.084702Z"
    },
    "papermill": {
     "duration": 0.049171,
     "end_time": "2022-01-17T00:49:02.613693",
     "exception": false,
     "start_time": "2022-01-17T00:49:02.564522",
     "status": "completed"
    },
    "tags": []
   },
   "outputs": [],
   "source": [
    "df = df.reset_index(drop=True)"
   ]
  },
  {
   "cell_type": "code",
   "execution_count": 15,
   "id": "b608c8f7",
   "metadata": {
    "execution": {
     "iopub.execute_input": "2022-01-17T00:49:02.713992Z",
     "iopub.status.busy": "2022-01-17T00:49:02.712530Z",
     "iopub.status.idle": "2022-01-17T00:49:02.717367Z",
     "shell.execute_reply": "2022-01-17T00:49:02.718163Z",
     "shell.execute_reply.started": "2022-01-17T00:31:33.094231Z"
    },
    "papermill": {
     "duration": 0.0587,
     "end_time": "2022-01-17T00:49:02.718382",
     "exception": false,
     "start_time": "2022-01-17T00:49:02.659682",
     "status": "completed"
    },
    "tags": []
   },
   "outputs": [
    {
     "data": {
      "text/plain": [
       "array([301])"
      ]
     },
     "execution_count": 15,
     "metadata": {},
     "output_type": "execute_result"
    }
   ],
   "source": [
    "df['rerun_ID'].unique()"
   ]
  },
  {
   "cell_type": "code",
   "execution_count": 16,
   "id": "5670ef66",
   "metadata": {
    "execution": {
     "iopub.execute_input": "2022-01-17T00:49:02.804523Z",
     "iopub.status.busy": "2022-01-17T00:49:02.803906Z",
     "iopub.status.idle": "2022-01-17T00:49:02.807494Z",
     "shell.execute_reply": "2022-01-17T00:49:02.808014Z",
     "shell.execute_reply.started": "2022-01-17T00:31:33.106222Z"
    },
    "papermill": {
     "duration": 0.048739,
     "end_time": "2022-01-17T00:49:02.808185",
     "exception": false,
     "start_time": "2022-01-17T00:49:02.759446",
     "status": "completed"
    },
    "tags": []
   },
   "outputs": [],
   "source": [
    "df = df.drop(columns = ['rerun_ID'],axis=1)"
   ]
  },
  {
   "cell_type": "code",
   "execution_count": 17,
   "id": "b64dfd3c",
   "metadata": {
    "execution": {
     "iopub.execute_input": "2022-01-17T00:49:02.891790Z",
     "iopub.status.busy": "2022-01-17T00:49:02.891228Z",
     "iopub.status.idle": "2022-01-17T00:49:02.930861Z",
     "shell.execute_reply": "2022-01-17T00:49:02.930351Z",
     "shell.execute_reply.started": "2022-01-17T00:31:33.119295Z"
    },
    "papermill": {
     "duration": 0.079513,
     "end_time": "2022-01-17T00:49:02.931013",
     "exception": false,
     "start_time": "2022-01-17T00:49:02.851500",
     "status": "completed"
    },
    "tags": []
   },
   "outputs": [],
   "source": [
    "df_else = df.sample(frac=0.9, random_state=25)\n",
    "df_test = df.drop(df_else.index)"
   ]
  },
  {
   "cell_type": "code",
   "execution_count": 18,
   "id": "20042f2d",
   "metadata": {
    "execution": {
     "iopub.execute_input": "2022-01-17T00:49:03.007993Z",
     "iopub.status.busy": "2022-01-17T00:49:03.007061Z",
     "iopub.status.idle": "2022-01-17T00:49:03.012687Z",
     "shell.execute_reply": "2022-01-17T00:49:03.013345Z",
     "shell.execute_reply.started": "2022-01-17T00:31:33.161589Z"
    },
    "papermill": {
     "duration": 0.045928,
     "end_time": "2022-01-17T00:49:03.013567",
     "exception": false,
     "start_time": "2022-01-17T00:49:02.967639",
     "status": "completed"
    },
    "tags": []
   },
   "outputs": [
    {
     "name": "stdout",
     "output_type": "stream",
     "text": [
      "(89999, 17)\n",
      "(10000, 17)\n"
     ]
    }
   ],
   "source": [
    "print(df_else.shape)\n",
    "print(df_test.shape)"
   ]
  },
  {
   "cell_type": "code",
   "execution_count": 19,
   "id": "fd361ae8",
   "metadata": {
    "execution": {
     "iopub.execute_input": "2022-01-17T00:49:03.092963Z",
     "iopub.status.busy": "2022-01-17T00:49:03.092384Z",
     "iopub.status.idle": "2022-01-17T00:49:03.135037Z",
     "shell.execute_reply": "2022-01-17T00:49:03.135541Z",
     "shell.execute_reply.started": "2022-01-17T00:31:33.166926Z"
    },
    "papermill": {
     "duration": 0.083217,
     "end_time": "2022-01-17T00:49:03.135723",
     "exception": false,
     "start_time": "2022-01-17T00:49:03.052506",
     "status": "completed"
    },
    "tags": []
   },
   "outputs": [],
   "source": [
    "df_train = df_else.sample(frac=0.8, random_state = 20)\n",
    "df_val = df_else.drop(df_train.index)"
   ]
  },
  {
   "cell_type": "code",
   "execution_count": 20,
   "id": "35e40296",
   "metadata": {
    "execution": {
     "iopub.execute_input": "2022-01-17T00:49:03.215715Z",
     "iopub.status.busy": "2022-01-17T00:49:03.214968Z",
     "iopub.status.idle": "2022-01-17T00:49:03.218540Z",
     "shell.execute_reply": "2022-01-17T00:49:03.218035Z",
     "shell.execute_reply.started": "2022-01-17T00:31:33.226051Z"
    },
    "papermill": {
     "duration": 0.045444,
     "end_time": "2022-01-17T00:49:03.218669",
     "exception": false,
     "start_time": "2022-01-17T00:49:03.173225",
     "status": "completed"
    },
    "tags": []
   },
   "outputs": [
    {
     "name": "stdout",
     "output_type": "stream",
     "text": [
      "(71999, 17)\n",
      "(18000, 17)\n"
     ]
    }
   ],
   "source": [
    "print(df_train.shape)\n",
    "print(df_val.shape)"
   ]
  },
  {
   "cell_type": "code",
   "execution_count": 21,
   "id": "78e70d14",
   "metadata": {
    "execution": {
     "iopub.execute_input": "2022-01-17T00:49:03.299288Z",
     "iopub.status.busy": "2022-01-17T00:49:03.298534Z",
     "iopub.status.idle": "2022-01-17T00:49:03.301278Z",
     "shell.execute_reply": "2022-01-17T00:49:03.300836Z",
     "shell.execute_reply.started": "2022-01-17T00:31:33.232447Z"
    },
    "papermill": {
     "duration": 0.044799,
     "end_time": "2022-01-17T00:49:03.301411",
     "exception": false,
     "start_time": "2022-01-17T00:49:03.256612",
     "status": "completed"
    },
    "tags": []
   },
   "outputs": [],
   "source": [
    "t = {'GALAXY':0,'QSO':1,'STAR':2}"
   ]
  },
  {
   "cell_type": "code",
   "execution_count": 22,
   "id": "f3c173c1",
   "metadata": {
    "execution": {
     "iopub.execute_input": "2022-01-17T00:49:03.379992Z",
     "iopub.status.busy": "2022-01-17T00:49:03.379367Z",
     "iopub.status.idle": "2022-01-17T00:49:03.406037Z",
     "shell.execute_reply": "2022-01-17T00:49:03.406557Z",
     "shell.execute_reply.started": "2022-01-17T00:31:33.244205Z"
    },
    "papermill": {
     "duration": 0.067532,
     "end_time": "2022-01-17T00:49:03.406736",
     "exception": false,
     "start_time": "2022-01-17T00:49:03.339204",
     "status": "completed"
    },
    "tags": []
   },
   "outputs": [
    {
     "data": {
      "text/html": [
       "<div>\n",
       "<style scoped>\n",
       "    .dataframe tbody tr th:only-of-type {\n",
       "        vertical-align: middle;\n",
       "    }\n",
       "\n",
       "    .dataframe tbody tr th {\n",
       "        vertical-align: top;\n",
       "    }\n",
       "\n",
       "    .dataframe thead th {\n",
       "        text-align: right;\n",
       "    }\n",
       "</style>\n",
       "<table border=\"1\" class=\"dataframe\">\n",
       "  <thead>\n",
       "    <tr style=\"text-align: right;\">\n",
       "      <th></th>\n",
       "      <th>obj_ID</th>\n",
       "      <th>alpha</th>\n",
       "      <th>delta</th>\n",
       "      <th>u</th>\n",
       "      <th>g</th>\n",
       "      <th>r</th>\n",
       "      <th>i</th>\n",
       "      <th>z</th>\n",
       "      <th>run_ID</th>\n",
       "      <th>cam_col</th>\n",
       "      <th>field_ID</th>\n",
       "      <th>spec_obj_ID</th>\n",
       "      <th>class</th>\n",
       "      <th>redshift</th>\n",
       "      <th>plate</th>\n",
       "      <th>MJD</th>\n",
       "      <th>fiber_ID</th>\n",
       "      <th>class_enc</th>\n",
       "    </tr>\n",
       "  </thead>\n",
       "  <tbody>\n",
       "    <tr>\n",
       "      <th>99065</th>\n",
       "      <td>1.237661e+18</td>\n",
       "      <td>226.339335</td>\n",
       "      <td>39.083512</td>\n",
       "      <td>23.00129</td>\n",
       "      <td>20.39655</td>\n",
       "      <td>18.74937</td>\n",
       "      <td>18.07508</td>\n",
       "      <td>17.65329</td>\n",
       "      <td>3699</td>\n",
       "      <td>3</td>\n",
       "      <td>227</td>\n",
       "      <td>1.574036e+18</td>\n",
       "      <td>GALAXY</td>\n",
       "      <td>0.284505</td>\n",
       "      <td>1398</td>\n",
       "      <td>53146</td>\n",
       "      <td>101</td>\n",
       "      <td>0</td>\n",
       "    </tr>\n",
       "    <tr>\n",
       "      <th>87964</th>\n",
       "      <td>1.237662e+18</td>\n",
       "      <td>176.030222</td>\n",
       "      <td>42.271812</td>\n",
       "      <td>25.90236</td>\n",
       "      <td>23.52246</td>\n",
       "      <td>21.42230</td>\n",
       "      <td>20.30071</td>\n",
       "      <td>19.50847</td>\n",
       "      <td>3840</td>\n",
       "      <td>4</td>\n",
       "      <td>131</td>\n",
       "      <td>9.422931e+18</td>\n",
       "      <td>GALAXY</td>\n",
       "      <td>0.674011</td>\n",
       "      <td>8369</td>\n",
       "      <td>57451</td>\n",
       "      <td>999</td>\n",
       "      <td>0</td>\n",
       "    </tr>\n",
       "    <tr>\n",
       "      <th>99877</th>\n",
       "      <td>1.237663e+18</td>\n",
       "      <td>241.108038</td>\n",
       "      <td>57.755768</td>\n",
       "      <td>18.84881</td>\n",
       "      <td>18.54406</td>\n",
       "      <td>18.69899</td>\n",
       "      <td>18.49950</td>\n",
       "      <td>18.32136</td>\n",
       "      <td>4011</td>\n",
       "      <td>5</td>\n",
       "      <td>52</td>\n",
       "      <td>7.640444e+18</td>\n",
       "      <td>QSO</td>\n",
       "      <td>0.473462</td>\n",
       "      <td>6786</td>\n",
       "      <td>56448</td>\n",
       "      <td>316</td>\n",
       "      <td>1</td>\n",
       "    </tr>\n",
       "    <tr>\n",
       "      <th>27689</th>\n",
       "      <td>1.237666e+18</td>\n",
       "      <td>247.071778</td>\n",
       "      <td>51.913554</td>\n",
       "      <td>23.63455</td>\n",
       "      <td>25.06550</td>\n",
       "      <td>22.01961</td>\n",
       "      <td>20.66394</td>\n",
       "      <td>19.96680</td>\n",
       "      <td>4679</td>\n",
       "      <td>3</td>\n",
       "      <td>102</td>\n",
       "      <td>9.072670e+18</td>\n",
       "      <td>GALAXY</td>\n",
       "      <td>0.747011</td>\n",
       "      <td>8058</td>\n",
       "      <td>57196</td>\n",
       "      <td>613</td>\n",
       "      <td>0</td>\n",
       "    </tr>\n",
       "    <tr>\n",
       "      <th>90151</th>\n",
       "      <td>1.237665e+18</td>\n",
       "      <td>191.465976</td>\n",
       "      <td>34.474234</td>\n",
       "      <td>19.05091</td>\n",
       "      <td>17.50399</td>\n",
       "      <td>16.60421</td>\n",
       "      <td>16.13665</td>\n",
       "      <td>15.83686</td>\n",
       "      <td>4576</td>\n",
       "      <td>3</td>\n",
       "      <td>484</td>\n",
       "      <td>2.237282e+18</td>\n",
       "      <td>GALAXY</td>\n",
       "      <td>0.063838</td>\n",
       "      <td>1987</td>\n",
       "      <td>53765</td>\n",
       "      <td>433</td>\n",
       "      <td>0</td>\n",
       "    </tr>\n",
       "  </tbody>\n",
       "</table>\n",
       "</div>"
      ],
      "text/plain": [
       "             obj_ID       alpha      delta         u         g         r  \\\n",
       "99065  1.237661e+18  226.339335  39.083512  23.00129  20.39655  18.74937   \n",
       "87964  1.237662e+18  176.030222  42.271812  25.90236  23.52246  21.42230   \n",
       "99877  1.237663e+18  241.108038  57.755768  18.84881  18.54406  18.69899   \n",
       "27689  1.237666e+18  247.071778  51.913554  23.63455  25.06550  22.01961   \n",
       "90151  1.237665e+18  191.465976  34.474234  19.05091  17.50399  16.60421   \n",
       "\n",
       "              i         z  run_ID  cam_col  field_ID   spec_obj_ID   class  \\\n",
       "99065  18.07508  17.65329    3699        3       227  1.574036e+18  GALAXY   \n",
       "87964  20.30071  19.50847    3840        4       131  9.422931e+18  GALAXY   \n",
       "99877  18.49950  18.32136    4011        5        52  7.640444e+18     QSO   \n",
       "27689  20.66394  19.96680    4679        3       102  9.072670e+18  GALAXY   \n",
       "90151  16.13665  15.83686    4576        3       484  2.237282e+18  GALAXY   \n",
       "\n",
       "       redshift  plate    MJD  fiber_ID  class_enc  \n",
       "99065  0.284505   1398  53146       101          0  \n",
       "87964  0.674011   8369  57451       999          0  \n",
       "99877  0.473462   6786  56448       316          1  \n",
       "27689  0.747011   8058  57196       613          0  \n",
       "90151  0.063838   1987  53765       433          0  "
      ]
     },
     "execution_count": 22,
     "metadata": {},
     "output_type": "execute_result"
    }
   ],
   "source": [
    "df_train['class_enc'] = df_train['class'].map(t)\n",
    "df_val['class_enc'] = df_val['class'].map(t)\n",
    "df_train.head()"
   ]
  },
  {
   "cell_type": "code",
   "execution_count": 23,
   "id": "304ac7c8",
   "metadata": {
    "execution": {
     "iopub.execute_input": "2022-01-17T00:49:03.485993Z",
     "iopub.status.busy": "2022-01-17T00:49:03.485334Z",
     "iopub.status.idle": "2022-01-17T00:49:03.512085Z",
     "shell.execute_reply": "2022-01-17T00:49:03.512579Z",
     "shell.execute_reply.started": "2022-01-17T00:31:33.274754Z"
    },
    "papermill": {
     "duration": 0.067615,
     "end_time": "2022-01-17T00:49:03.512760",
     "exception": false,
     "start_time": "2022-01-17T00:49:03.445145",
     "status": "completed"
    },
    "tags": []
   },
   "outputs": [],
   "source": [
    "df_train = df_train.drop(['class'],axis=1)\n",
    "df_val = df_val.drop(['class'], axis=1)\n",
    "df_train = df_train.reset_index(drop=True)\n",
    "df_val = df_val.reset_index(drop=True)"
   ]
  },
  {
   "cell_type": "code",
   "execution_count": 24,
   "id": "4cf44164",
   "metadata": {
    "execution": {
     "iopub.execute_input": "2022-01-17T00:49:03.605333Z",
     "iopub.status.busy": "2022-01-17T00:49:03.591371Z",
     "iopub.status.idle": "2022-01-17T00:49:03.608032Z",
     "shell.execute_reply": "2022-01-17T00:49:03.608482Z",
     "shell.execute_reply.started": "2022-01-17T00:31:33.295115Z"
    },
    "papermill": {
     "duration": 0.0575,
     "end_time": "2022-01-17T00:49:03.608641",
     "exception": false,
     "start_time": "2022-01-17T00:49:03.551141",
     "status": "completed"
    },
    "tags": []
   },
   "outputs": [
    {
     "data": {
      "text/html": [
       "<div>\n",
       "<style scoped>\n",
       "    .dataframe tbody tr th:only-of-type {\n",
       "        vertical-align: middle;\n",
       "    }\n",
       "\n",
       "    .dataframe tbody tr th {\n",
       "        vertical-align: top;\n",
       "    }\n",
       "\n",
       "    .dataframe thead th {\n",
       "        text-align: right;\n",
       "    }\n",
       "</style>\n",
       "<table border=\"1\" class=\"dataframe\">\n",
       "  <thead>\n",
       "    <tr style=\"text-align: right;\">\n",
       "      <th></th>\n",
       "      <th>obj_ID</th>\n",
       "      <th>alpha</th>\n",
       "      <th>delta</th>\n",
       "      <th>u</th>\n",
       "      <th>g</th>\n",
       "      <th>r</th>\n",
       "      <th>i</th>\n",
       "      <th>z</th>\n",
       "      <th>run_ID</th>\n",
       "      <th>cam_col</th>\n",
       "      <th>field_ID</th>\n",
       "      <th>spec_obj_ID</th>\n",
       "      <th>redshift</th>\n",
       "      <th>plate</th>\n",
       "      <th>MJD</th>\n",
       "      <th>fiber_ID</th>\n",
       "      <th>class_enc</th>\n",
       "    </tr>\n",
       "  </thead>\n",
       "  <tbody>\n",
       "    <tr>\n",
       "      <th>0</th>\n",
       "      <td>1.237668e+18</td>\n",
       "      <td>172.427892</td>\n",
       "      <td>18.790452</td>\n",
       "      <td>24.64223</td>\n",
       "      <td>22.25799</td>\n",
       "      <td>21.90783</td>\n",
       "      <td>21.04677</td>\n",
       "      <td>20.68865</td>\n",
       "      <td>5313</td>\n",
       "      <td>2</td>\n",
       "      <td>87</td>\n",
       "      <td>6.619268e+18</td>\n",
       "      <td>0.000381</td>\n",
       "      <td>5879</td>\n",
       "      <td>56047</td>\n",
       "      <td>372</td>\n",
       "      <td>2</td>\n",
       "    </tr>\n",
       "    <tr>\n",
       "      <th>1</th>\n",
       "      <td>1.237663e+18</td>\n",
       "      <td>331.238887</td>\n",
       "      <td>0.201204</td>\n",
       "      <td>22.90914</td>\n",
       "      <td>21.54735</td>\n",
       "      <td>21.17424</td>\n",
       "      <td>20.81643</td>\n",
       "      <td>20.60504</td>\n",
       "      <td>4192</td>\n",
       "      <td>4</td>\n",
       "      <td>164</td>\n",
       "      <td>1.032006e+19</td>\n",
       "      <td>3.176916</td>\n",
       "      <td>9166</td>\n",
       "      <td>58051</td>\n",
       "      <td>205</td>\n",
       "      <td>1</td>\n",
       "    </tr>\n",
       "    <tr>\n",
       "      <th>2</th>\n",
       "      <td>1.237658e+18</td>\n",
       "      <td>141.637279</td>\n",
       "      <td>42.088899</td>\n",
       "      <td>25.03010</td>\n",
       "      <td>23.79241</td>\n",
       "      <td>21.48902</td>\n",
       "      <td>20.47543</td>\n",
       "      <td>19.81643</td>\n",
       "      <td>2830</td>\n",
       "      <td>1</td>\n",
       "      <td>215</td>\n",
       "      <td>9.342972e+18</td>\n",
       "      <td>0.595731</td>\n",
       "      <td>8298</td>\n",
       "      <td>57390</td>\n",
       "      <td>927</td>\n",
       "      <td>0</td>\n",
       "    </tr>\n",
       "    <tr>\n",
       "      <th>3</th>\n",
       "      <td>1.237668e+18</td>\n",
       "      <td>84.873591</td>\n",
       "      <td>-2.153757</td>\n",
       "      <td>21.72150</td>\n",
       "      <td>21.17631</td>\n",
       "      <td>19.22806</td>\n",
       "      <td>18.42299</td>\n",
       "      <td>17.82802</td>\n",
       "      <td>5181</td>\n",
       "      <td>6</td>\n",
       "      <td>89</td>\n",
       "      <td>8.172984e+18</td>\n",
       "      <td>0.277057</td>\n",
       "      <td>7259</td>\n",
       "      <td>56603</td>\n",
       "      <td>278</td>\n",
       "      <td>0</td>\n",
       "    </tr>\n",
       "    <tr>\n",
       "      <th>4</th>\n",
       "      <td>1.237679e+18</td>\n",
       "      <td>321.649375</td>\n",
       "      <td>2.096375</td>\n",
       "      <td>21.25759</td>\n",
       "      <td>20.10503</td>\n",
       "      <td>20.81921</td>\n",
       "      <td>20.29224</td>\n",
       "      <td>19.06567</td>\n",
       "      <td>7712</td>\n",
       "      <td>4</td>\n",
       "      <td>73</td>\n",
       "      <td>1.031569e+19</td>\n",
       "      <td>0.219943</td>\n",
       "      <td>9162</td>\n",
       "      <td>58040</td>\n",
       "      <td>702</td>\n",
       "      <td>0</td>\n",
       "    </tr>\n",
       "  </tbody>\n",
       "</table>\n",
       "</div>"
      ],
      "text/plain": [
       "         obj_ID       alpha      delta         u         g         r  \\\n",
       "0  1.237668e+18  172.427892  18.790452  24.64223  22.25799  21.90783   \n",
       "1  1.237663e+18  331.238887   0.201204  22.90914  21.54735  21.17424   \n",
       "2  1.237658e+18  141.637279  42.088899  25.03010  23.79241  21.48902   \n",
       "3  1.237668e+18   84.873591  -2.153757  21.72150  21.17631  19.22806   \n",
       "4  1.237679e+18  321.649375   2.096375  21.25759  20.10503  20.81921   \n",
       "\n",
       "          i         z  run_ID  cam_col  field_ID   spec_obj_ID  redshift  \\\n",
       "0  21.04677  20.68865    5313        2        87  6.619268e+18  0.000381   \n",
       "1  20.81643  20.60504    4192        4       164  1.032006e+19  3.176916   \n",
       "2  20.47543  19.81643    2830        1       215  9.342972e+18  0.595731   \n",
       "3  18.42299  17.82802    5181        6        89  8.172984e+18  0.277057   \n",
       "4  20.29224  19.06567    7712        4        73  1.031569e+19  0.219943   \n",
       "\n",
       "   plate    MJD  fiber_ID  class_enc  \n",
       "0   5879  56047       372          2  \n",
       "1   9166  58051       205          1  \n",
       "2   8298  57390       927          0  \n",
       "3   7259  56603       278          0  \n",
       "4   9162  58040       702          0  "
      ]
     },
     "execution_count": 24,
     "metadata": {},
     "output_type": "execute_result"
    }
   ],
   "source": [
    "df_val.head()"
   ]
  },
  {
   "cell_type": "code",
   "execution_count": 25,
   "id": "f71caf12",
   "metadata": {
    "execution": {
     "iopub.execute_input": "2022-01-17T00:49:03.688325Z",
     "iopub.status.busy": "2022-01-17T00:49:03.687742Z",
     "iopub.status.idle": "2022-01-17T00:49:03.790291Z",
     "shell.execute_reply": "2022-01-17T00:49:03.789747Z",
     "shell.execute_reply.started": "2022-01-17T00:31:33.313921Z"
    },
    "papermill": {
     "duration": 0.14349,
     "end_time": "2022-01-17T00:49:03.790422",
     "exception": false,
     "start_time": "2022-01-17T00:49:03.646932",
     "status": "completed"
    },
    "tags": []
   },
   "outputs": [
    {
     "data": {
      "text/html": [
       "<div>\n",
       "<style scoped>\n",
       "    .dataframe tbody tr th:only-of-type {\n",
       "        vertical-align: middle;\n",
       "    }\n",
       "\n",
       "    .dataframe tbody tr th {\n",
       "        vertical-align: top;\n",
       "    }\n",
       "\n",
       "    .dataframe thead th {\n",
       "        text-align: right;\n",
       "    }\n",
       "</style>\n",
       "<table border=\"1\" class=\"dataframe\">\n",
       "  <thead>\n",
       "    <tr style=\"text-align: right;\">\n",
       "      <th></th>\n",
       "      <th>obj_ID</th>\n",
       "      <th>alpha</th>\n",
       "      <th>delta</th>\n",
       "      <th>u</th>\n",
       "      <th>g</th>\n",
       "      <th>r</th>\n",
       "      <th>i</th>\n",
       "      <th>z</th>\n",
       "      <th>run_ID</th>\n",
       "      <th>cam_col</th>\n",
       "      <th>field_ID</th>\n",
       "      <th>spec_obj_ID</th>\n",
       "      <th>redshift</th>\n",
       "      <th>plate</th>\n",
       "      <th>MJD</th>\n",
       "      <th>fiber_ID</th>\n",
       "    </tr>\n",
       "  </thead>\n",
       "  <tbody>\n",
       "    <tr>\n",
       "      <th>count</th>\n",
       "      <td>9.999900e+04</td>\n",
       "      <td>99999.000000</td>\n",
       "      <td>99999.000000</td>\n",
       "      <td>99999.000000</td>\n",
       "      <td>99999.000000</td>\n",
       "      <td>99999.000000</td>\n",
       "      <td>99999.000000</td>\n",
       "      <td>99999.000000</td>\n",
       "      <td>99999.000000</td>\n",
       "      <td>99999.000000</td>\n",
       "      <td>99999.000000</td>\n",
       "      <td>9.999900e+04</td>\n",
       "      <td>99999.000000</td>\n",
       "      <td>99999.000000</td>\n",
       "      <td>99999.000000</td>\n",
       "      <td>99999.000000</td>\n",
       "    </tr>\n",
       "    <tr>\n",
       "      <th>mean</th>\n",
       "      <td>1.237665e+18</td>\n",
       "      <td>177.628653</td>\n",
       "      <td>24.135552</td>\n",
       "      <td>22.080679</td>\n",
       "      <td>20.631583</td>\n",
       "      <td>19.645777</td>\n",
       "      <td>19.084865</td>\n",
       "      <td>18.768988</td>\n",
       "      <td>4481.403354</td>\n",
       "      <td>3.511625</td>\n",
       "      <td>186.127011</td>\n",
       "      <td>5.783903e+18</td>\n",
       "      <td>0.576667</td>\n",
       "      <td>5137.027890</td>\n",
       "      <td>55588.653687</td>\n",
       "      <td>449.315613</td>\n",
       "    </tr>\n",
       "    <tr>\n",
       "      <th>std</th>\n",
       "      <td>8.438450e+12</td>\n",
       "      <td>96.502612</td>\n",
       "      <td>19.644608</td>\n",
       "      <td>2.251068</td>\n",
       "      <td>2.037384</td>\n",
       "      <td>1.854763</td>\n",
       "      <td>1.757900</td>\n",
       "      <td>1.765982</td>\n",
       "      <td>1964.739021</td>\n",
       "      <td>1.586913</td>\n",
       "      <td>149.007687</td>\n",
       "      <td>3.324026e+18</td>\n",
       "      <td>0.730709</td>\n",
       "      <td>2952.312485</td>\n",
       "      <td>1808.492217</td>\n",
       "      <td>272.498252</td>\n",
       "    </tr>\n",
       "    <tr>\n",
       "      <th>min</th>\n",
       "      <td>1.237646e+18</td>\n",
       "      <td>0.005528</td>\n",
       "      <td>-18.785328</td>\n",
       "      <td>10.996230</td>\n",
       "      <td>10.498200</td>\n",
       "      <td>9.822070</td>\n",
       "      <td>9.469903</td>\n",
       "      <td>9.612333</td>\n",
       "      <td>109.000000</td>\n",
       "      <td>1.000000</td>\n",
       "      <td>11.000000</td>\n",
       "      <td>2.995191e+17</td>\n",
       "      <td>-0.009971</td>\n",
       "      <td>266.000000</td>\n",
       "      <td>51608.000000</td>\n",
       "      <td>1.000000</td>\n",
       "    </tr>\n",
       "    <tr>\n",
       "      <th>25%</th>\n",
       "      <td>1.237659e+18</td>\n",
       "      <td>127.517698</td>\n",
       "      <td>5.147477</td>\n",
       "      <td>20.352410</td>\n",
       "      <td>18.965240</td>\n",
       "      <td>18.135795</td>\n",
       "      <td>17.732280</td>\n",
       "      <td>17.460830</td>\n",
       "      <td>3187.000000</td>\n",
       "      <td>2.000000</td>\n",
       "      <td>82.000000</td>\n",
       "      <td>2.844137e+18</td>\n",
       "      <td>0.054522</td>\n",
       "      <td>2526.000000</td>\n",
       "      <td>54234.000000</td>\n",
       "      <td>221.000000</td>\n",
       "    </tr>\n",
       "    <tr>\n",
       "      <th>50%</th>\n",
       "      <td>1.237663e+18</td>\n",
       "      <td>180.900527</td>\n",
       "      <td>23.646462</td>\n",
       "      <td>22.179140</td>\n",
       "      <td>21.099930</td>\n",
       "      <td>20.125310</td>\n",
       "      <td>19.405150</td>\n",
       "      <td>19.004600</td>\n",
       "      <td>4188.000000</td>\n",
       "      <td>4.000000</td>\n",
       "      <td>146.000000</td>\n",
       "      <td>5.614896e+18</td>\n",
       "      <td>0.424176</td>\n",
       "      <td>4987.000000</td>\n",
       "      <td>55869.000000</td>\n",
       "      <td>433.000000</td>\n",
       "    </tr>\n",
       "    <tr>\n",
       "      <th>75%</th>\n",
       "      <td>1.237668e+18</td>\n",
       "      <td>233.895005</td>\n",
       "      <td>39.901582</td>\n",
       "      <td>23.687480</td>\n",
       "      <td>22.123775</td>\n",
       "      <td>21.044790</td>\n",
       "      <td>20.396510</td>\n",
       "      <td>19.921120</td>\n",
       "      <td>5326.000000</td>\n",
       "      <td>5.000000</td>\n",
       "      <td>241.000000</td>\n",
       "      <td>8.332365e+18</td>\n",
       "      <td>0.704172</td>\n",
       "      <td>7400.500000</td>\n",
       "      <td>56777.000000</td>\n",
       "      <td>645.000000</td>\n",
       "    </tr>\n",
       "    <tr>\n",
       "      <th>max</th>\n",
       "      <td>1.237681e+18</td>\n",
       "      <td>359.999810</td>\n",
       "      <td>83.000519</td>\n",
       "      <td>32.781390</td>\n",
       "      <td>31.602240</td>\n",
       "      <td>29.571860</td>\n",
       "      <td>32.141470</td>\n",
       "      <td>29.383740</td>\n",
       "      <td>8162.000000</td>\n",
       "      <td>6.000000</td>\n",
       "      <td>989.000000</td>\n",
       "      <td>1.412694e+19</td>\n",
       "      <td>7.011245</td>\n",
       "      <td>12547.000000</td>\n",
       "      <td>58932.000000</td>\n",
       "      <td>1000.000000</td>\n",
       "    </tr>\n",
       "  </tbody>\n",
       "</table>\n",
       "</div>"
      ],
      "text/plain": [
       "             obj_ID         alpha         delta             u             g  \\\n",
       "count  9.999900e+04  99999.000000  99999.000000  99999.000000  99999.000000   \n",
       "mean   1.237665e+18    177.628653     24.135552     22.080679     20.631583   \n",
       "std    8.438450e+12     96.502612     19.644608      2.251068      2.037384   \n",
       "min    1.237646e+18      0.005528    -18.785328     10.996230     10.498200   \n",
       "25%    1.237659e+18    127.517698      5.147477     20.352410     18.965240   \n",
       "50%    1.237663e+18    180.900527     23.646462     22.179140     21.099930   \n",
       "75%    1.237668e+18    233.895005     39.901582     23.687480     22.123775   \n",
       "max    1.237681e+18    359.999810     83.000519     32.781390     31.602240   \n",
       "\n",
       "                  r             i             z        run_ID       cam_col  \\\n",
       "count  99999.000000  99999.000000  99999.000000  99999.000000  99999.000000   \n",
       "mean      19.645777     19.084865     18.768988   4481.403354      3.511625   \n",
       "std        1.854763      1.757900      1.765982   1964.739021      1.586913   \n",
       "min        9.822070      9.469903      9.612333    109.000000      1.000000   \n",
       "25%       18.135795     17.732280     17.460830   3187.000000      2.000000   \n",
       "50%       20.125310     19.405150     19.004600   4188.000000      4.000000   \n",
       "75%       21.044790     20.396510     19.921120   5326.000000      5.000000   \n",
       "max       29.571860     32.141470     29.383740   8162.000000      6.000000   \n",
       "\n",
       "           field_ID   spec_obj_ID      redshift         plate           MJD  \\\n",
       "count  99999.000000  9.999900e+04  99999.000000  99999.000000  99999.000000   \n",
       "mean     186.127011  5.783903e+18      0.576667   5137.027890  55588.653687   \n",
       "std      149.007687  3.324026e+18      0.730709   2952.312485   1808.492217   \n",
       "min       11.000000  2.995191e+17     -0.009971    266.000000  51608.000000   \n",
       "25%       82.000000  2.844137e+18      0.054522   2526.000000  54234.000000   \n",
       "50%      146.000000  5.614896e+18      0.424176   4987.000000  55869.000000   \n",
       "75%      241.000000  8.332365e+18      0.704172   7400.500000  56777.000000   \n",
       "max      989.000000  1.412694e+19      7.011245  12547.000000  58932.000000   \n",
       "\n",
       "           fiber_ID  \n",
       "count  99999.000000  \n",
       "mean     449.315613  \n",
       "std      272.498252  \n",
       "min        1.000000  \n",
       "25%      221.000000  \n",
       "50%      433.000000  \n",
       "75%      645.000000  \n",
       "max     1000.000000  "
      ]
     },
     "execution_count": 25,
     "metadata": {},
     "output_type": "execute_result"
    }
   ],
   "source": [
    "df.describe()"
   ]
  },
  {
   "cell_type": "markdown",
   "id": "cc9c93f0",
   "metadata": {
    "execution": {
     "iopub.execute_input": "2022-01-16T05:46:06.473175Z",
     "iopub.status.busy": "2022-01-16T05:46:06.472223Z",
     "iopub.status.idle": "2022-01-16T05:46:06.478661Z",
     "shell.execute_reply": "2022-01-16T05:46:06.477202Z",
     "shell.execute_reply.started": "2022-01-16T05:46:06.473131Z"
    },
    "papermill": {
     "duration": 0.039618,
     "end_time": "2022-01-17T00:49:03.869789",
     "exception": false,
     "start_time": "2022-01-17T00:49:03.830171",
     "status": "completed"
    },
    "tags": []
   },
   "source": [
    "#### Since each row is not an event of occurence but an observational fact, lets not handle outilers using statistical methods. By the way we removed the obvious outlier where u,g and z are -9999."
   ]
  },
  {
   "cell_type": "code",
   "execution_count": 26,
   "id": "57c28261",
   "metadata": {
    "execution": {
     "iopub.execute_input": "2022-01-17T00:49:03.953878Z",
     "iopub.status.busy": "2022-01-17T00:49:03.953249Z",
     "iopub.status.idle": "2022-01-17T00:49:05.136564Z",
     "shell.execute_reply": "2022-01-17T00:49:05.137150Z",
     "shell.execute_reply.started": "2022-01-17T00:31:33.422107Z"
    },
    "papermill": {
     "duration": 1.228061,
     "end_time": "2022-01-17T00:49:05.137325",
     "exception": false,
     "start_time": "2022-01-17T00:49:03.909264",
     "status": "completed"
    },
    "tags": []
   },
   "outputs": [
    {
     "name": "stderr",
     "output_type": "stream",
     "text": [
      "/opt/conda/lib/python3.7/site-packages/sklearn/utils/validation.py:72: DataConversionWarning: A column-vector y was passed when a 1d array was expected. Please change the shape of y to (n_samples, ), for example using ravel().\n",
      "  return f(**kwargs)\n"
     ]
    }
   ],
   "source": [
    "# Feature Selection\n",
    "# Numerical input and Classification output\n",
    "from sklearn.feature_selection import SelectKBest\n",
    "from sklearn.feature_selection import f_classif\n",
    "\n",
    "X = df_train.drop(['class_enc'],axis=1)\n",
    "y = df_train[['class_enc']]\n",
    "\n",
    "fs = f_classif(X,y)"
   ]
  },
  {
   "cell_type": "code",
   "execution_count": 27,
   "id": "cef8c023",
   "metadata": {
    "execution": {
     "iopub.execute_input": "2022-01-17T00:49:05.221218Z",
     "iopub.status.busy": "2022-01-17T00:49:05.220557Z",
     "iopub.status.idle": "2022-01-17T00:49:05.223457Z",
     "shell.execute_reply": "2022-01-17T00:49:05.223895Z",
     "shell.execute_reply.started": "2022-01-17T00:31:34.461899Z"
    },
    "papermill": {
     "duration": 0.047754,
     "end_time": "2022-01-17T00:49:05.224060",
     "exception": false,
     "start_time": "2022-01-17T00:49:05.176306",
     "status": "completed"
    },
    "tags": []
   },
   "outputs": [
    {
     "data": {
      "text/plain": [
       "(array([9.41410908e+01, 1.45270428e+01, 1.55686677e+02, 3.07533466e+03,\n",
       "        2.72386152e+03, 3.37861887e+03, 6.03181912e+03, 7.37548891e+03,\n",
       "        9.40820066e+01, 2.10681837e+01, 5.73119698e+01, 3.79358179e+03,\n",
       "        5.96907772e+04, 3.79357492e+03, 3.23802454e+03, 3.27475006e+02]),\n",
       " array([1.47370782e-041, 4.92332106e-007, 3.40350021e-068, 0.00000000e+000,\n",
       "        0.00000000e+000, 0.00000000e+000, 0.00000000e+000, 0.00000000e+000,\n",
       "        1.56316361e-041, 7.12656940e-010, 1.34747436e-025, 0.00000000e+000,\n",
       "        0.00000000e+000, 0.00000000e+000, 0.00000000e+000, 2.64489250e-142]))"
      ]
     },
     "execution_count": 27,
     "metadata": {},
     "output_type": "execute_result"
    }
   ],
   "source": [
    "fs"
   ]
  },
  {
   "cell_type": "code",
   "execution_count": 28,
   "id": "86187d7d",
   "metadata": {
    "execution": {
     "iopub.execute_input": "2022-01-17T00:49:05.306471Z",
     "iopub.status.busy": "2022-01-17T00:49:05.305927Z",
     "iopub.status.idle": "2022-01-17T00:49:05.310186Z",
     "shell.execute_reply": "2022-01-17T00:49:05.310595Z",
     "shell.execute_reply.started": "2022-01-17T00:31:34.468104Z"
    },
    "papermill": {
     "duration": 0.046571,
     "end_time": "2022-01-17T00:49:05.310760",
     "exception": false,
     "start_time": "2022-01-17T00:49:05.264189",
     "status": "completed"
    },
    "tags": []
   },
   "outputs": [
    {
     "data": {
      "text/plain": [
       "14.527042751808048"
      ]
     },
     "execution_count": 28,
     "metadata": {},
     "output_type": "execute_result"
    }
   ],
   "source": [
    "fs[0][1]"
   ]
  },
  {
   "cell_type": "code",
   "execution_count": 29,
   "id": "f6922d38",
   "metadata": {
    "execution": {
     "iopub.execute_input": "2022-01-17T00:49:05.394171Z",
     "iopub.status.busy": "2022-01-17T00:49:05.393591Z",
     "iopub.status.idle": "2022-01-17T00:49:05.402628Z",
     "shell.execute_reply": "2022-01-17T00:49:05.402077Z",
     "shell.execute_reply.started": "2022-01-17T00:31:34.486370Z"
    },
    "papermill": {
     "duration": 0.051859,
     "end_time": "2022-01-17T00:49:05.402753",
     "exception": false,
     "start_time": "2022-01-17T00:49:05.350894",
     "status": "completed"
    },
    "tags": []
   },
   "outputs": [],
   "source": [
    "fs_df = pd.DataFrame(columns=['f_score','p_value'])\n",
    "\n",
    "col = []\n",
    "f_score = []\n",
    "p_value = []\n",
    "for i in range(len(df_train.columns)-1):\n",
    "    col.append(df_train.columns[i])\n",
    "    f_score.append(fs[0][i])\n",
    "    p_value.append(fs[1][i])\n",
    "    \n",
    "fs_df['col'] = col\n",
    "fs_df['f_score'] = f_score\n",
    "fs_df['p_value'] = p_value\n",
    "    "
   ]
  },
  {
   "cell_type": "code",
   "execution_count": 30,
   "id": "c5eff635",
   "metadata": {
    "execution": {
     "iopub.execute_input": "2022-01-17T00:49:05.484547Z",
     "iopub.status.busy": "2022-01-17T00:49:05.484017Z",
     "iopub.status.idle": "2022-01-17T00:49:05.494902Z",
     "shell.execute_reply": "2022-01-17T00:49:05.495383Z",
     "shell.execute_reply.started": "2022-01-17T00:31:34.501690Z"
    },
    "papermill": {
     "duration": 0.053216,
     "end_time": "2022-01-17T00:49:05.495547",
     "exception": false,
     "start_time": "2022-01-17T00:49:05.442331",
     "status": "completed"
    },
    "tags": []
   },
   "outputs": [
    {
     "data": {
      "text/html": [
       "<div>\n",
       "<style scoped>\n",
       "    .dataframe tbody tr th:only-of-type {\n",
       "        vertical-align: middle;\n",
       "    }\n",
       "\n",
       "    .dataframe tbody tr th {\n",
       "        vertical-align: top;\n",
       "    }\n",
       "\n",
       "    .dataframe thead th {\n",
       "        text-align: right;\n",
       "    }\n",
       "</style>\n",
       "<table border=\"1\" class=\"dataframe\">\n",
       "  <thead>\n",
       "    <tr style=\"text-align: right;\">\n",
       "      <th></th>\n",
       "      <th>f_score</th>\n",
       "      <th>p_value</th>\n",
       "      <th>col</th>\n",
       "    </tr>\n",
       "  </thead>\n",
       "  <tbody>\n",
       "    <tr>\n",
       "      <th>0</th>\n",
       "      <td>94.141091</td>\n",
       "      <td>1.473708e-41</td>\n",
       "      <td>obj_ID</td>\n",
       "    </tr>\n",
       "    <tr>\n",
       "      <th>1</th>\n",
       "      <td>14.527043</td>\n",
       "      <td>4.923321e-07</td>\n",
       "      <td>alpha</td>\n",
       "    </tr>\n",
       "    <tr>\n",
       "      <th>2</th>\n",
       "      <td>155.686677</td>\n",
       "      <td>3.403500e-68</td>\n",
       "      <td>delta</td>\n",
       "    </tr>\n",
       "    <tr>\n",
       "      <th>3</th>\n",
       "      <td>3075.334656</td>\n",
       "      <td>0.000000e+00</td>\n",
       "      <td>u</td>\n",
       "    </tr>\n",
       "    <tr>\n",
       "      <th>4</th>\n",
       "      <td>2723.861524</td>\n",
       "      <td>0.000000e+00</td>\n",
       "      <td>g</td>\n",
       "    </tr>\n",
       "    <tr>\n",
       "      <th>5</th>\n",
       "      <td>3378.618866</td>\n",
       "      <td>0.000000e+00</td>\n",
       "      <td>r</td>\n",
       "    </tr>\n",
       "    <tr>\n",
       "      <th>6</th>\n",
       "      <td>6031.819122</td>\n",
       "      <td>0.000000e+00</td>\n",
       "      <td>i</td>\n",
       "    </tr>\n",
       "    <tr>\n",
       "      <th>7</th>\n",
       "      <td>7375.488908</td>\n",
       "      <td>0.000000e+00</td>\n",
       "      <td>z</td>\n",
       "    </tr>\n",
       "    <tr>\n",
       "      <th>8</th>\n",
       "      <td>94.082007</td>\n",
       "      <td>1.563164e-41</td>\n",
       "      <td>run_ID</td>\n",
       "    </tr>\n",
       "    <tr>\n",
       "      <th>9</th>\n",
       "      <td>21.068184</td>\n",
       "      <td>7.126569e-10</td>\n",
       "      <td>cam_col</td>\n",
       "    </tr>\n",
       "    <tr>\n",
       "      <th>10</th>\n",
       "      <td>57.311970</td>\n",
       "      <td>1.347474e-25</td>\n",
       "      <td>field_ID</td>\n",
       "    </tr>\n",
       "    <tr>\n",
       "      <th>11</th>\n",
       "      <td>3793.581787</td>\n",
       "      <td>0.000000e+00</td>\n",
       "      <td>spec_obj_ID</td>\n",
       "    </tr>\n",
       "    <tr>\n",
       "      <th>12</th>\n",
       "      <td>59690.777219</td>\n",
       "      <td>0.000000e+00</td>\n",
       "      <td>redshift</td>\n",
       "    </tr>\n",
       "    <tr>\n",
       "      <th>13</th>\n",
       "      <td>3793.574919</td>\n",
       "      <td>0.000000e+00</td>\n",
       "      <td>plate</td>\n",
       "    </tr>\n",
       "    <tr>\n",
       "      <th>14</th>\n",
       "      <td>3238.024539</td>\n",
       "      <td>0.000000e+00</td>\n",
       "      <td>MJD</td>\n",
       "    </tr>\n",
       "    <tr>\n",
       "      <th>15</th>\n",
       "      <td>327.475006</td>\n",
       "      <td>2.644892e-142</td>\n",
       "      <td>fiber_ID</td>\n",
       "    </tr>\n",
       "  </tbody>\n",
       "</table>\n",
       "</div>"
      ],
      "text/plain": [
       "         f_score        p_value          col\n",
       "0      94.141091   1.473708e-41       obj_ID\n",
       "1      14.527043   4.923321e-07        alpha\n",
       "2     155.686677   3.403500e-68        delta\n",
       "3    3075.334656   0.000000e+00            u\n",
       "4    2723.861524   0.000000e+00            g\n",
       "5    3378.618866   0.000000e+00            r\n",
       "6    6031.819122   0.000000e+00            i\n",
       "7    7375.488908   0.000000e+00            z\n",
       "8      94.082007   1.563164e-41       run_ID\n",
       "9      21.068184   7.126569e-10      cam_col\n",
       "10     57.311970   1.347474e-25     field_ID\n",
       "11   3793.581787   0.000000e+00  spec_obj_ID\n",
       "12  59690.777219   0.000000e+00     redshift\n",
       "13   3793.574919   0.000000e+00        plate\n",
       "14   3238.024539   0.000000e+00          MJD\n",
       "15    327.475006  2.644892e-142     fiber_ID"
      ]
     },
     "execution_count": 30,
     "metadata": {},
     "output_type": "execute_result"
    }
   ],
   "source": [
    "fs_df"
   ]
  },
  {
   "cell_type": "code",
   "execution_count": 31,
   "id": "0a6f1ea4",
   "metadata": {
    "execution": {
     "iopub.execute_input": "2022-01-17T00:49:05.582954Z",
     "iopub.status.busy": "2022-01-17T00:49:05.582300Z",
     "iopub.status.idle": "2022-01-17T00:49:05.592005Z",
     "shell.execute_reply": "2022-01-17T00:49:05.592452Z",
     "shell.execute_reply.started": "2022-01-17T00:31:34.523956Z"
    },
    "papermill": {
     "duration": 0.056425,
     "end_time": "2022-01-17T00:49:05.592634",
     "exception": false,
     "start_time": "2022-01-17T00:49:05.536209",
     "status": "completed"
    },
    "tags": []
   },
   "outputs": [
    {
     "data": {
      "text/html": [
       "<div>\n",
       "<style scoped>\n",
       "    .dataframe tbody tr th:only-of-type {\n",
       "        vertical-align: middle;\n",
       "    }\n",
       "\n",
       "    .dataframe tbody tr th {\n",
       "        vertical-align: top;\n",
       "    }\n",
       "\n",
       "    .dataframe thead th {\n",
       "        text-align: right;\n",
       "    }\n",
       "</style>\n",
       "<table border=\"1\" class=\"dataframe\">\n",
       "  <thead>\n",
       "    <tr style=\"text-align: right;\">\n",
       "      <th></th>\n",
       "      <th>f_score</th>\n",
       "      <th>p_value</th>\n",
       "      <th>col</th>\n",
       "    </tr>\n",
       "  </thead>\n",
       "  <tbody>\n",
       "    <tr>\n",
       "      <th>0</th>\n",
       "      <td>59690.777219</td>\n",
       "      <td>0.000000e+00</td>\n",
       "      <td>redshift</td>\n",
       "    </tr>\n",
       "    <tr>\n",
       "      <th>1</th>\n",
       "      <td>7375.488908</td>\n",
       "      <td>0.000000e+00</td>\n",
       "      <td>z</td>\n",
       "    </tr>\n",
       "    <tr>\n",
       "      <th>2</th>\n",
       "      <td>6031.819122</td>\n",
       "      <td>0.000000e+00</td>\n",
       "      <td>i</td>\n",
       "    </tr>\n",
       "    <tr>\n",
       "      <th>3</th>\n",
       "      <td>3793.581787</td>\n",
       "      <td>0.000000e+00</td>\n",
       "      <td>spec_obj_ID</td>\n",
       "    </tr>\n",
       "    <tr>\n",
       "      <th>4</th>\n",
       "      <td>3793.574919</td>\n",
       "      <td>0.000000e+00</td>\n",
       "      <td>plate</td>\n",
       "    </tr>\n",
       "    <tr>\n",
       "      <th>5</th>\n",
       "      <td>3378.618866</td>\n",
       "      <td>0.000000e+00</td>\n",
       "      <td>r</td>\n",
       "    </tr>\n",
       "    <tr>\n",
       "      <th>6</th>\n",
       "      <td>3238.024539</td>\n",
       "      <td>0.000000e+00</td>\n",
       "      <td>MJD</td>\n",
       "    </tr>\n",
       "    <tr>\n",
       "      <th>7</th>\n",
       "      <td>3075.334656</td>\n",
       "      <td>0.000000e+00</td>\n",
       "      <td>u</td>\n",
       "    </tr>\n",
       "    <tr>\n",
       "      <th>8</th>\n",
       "      <td>2723.861524</td>\n",
       "      <td>0.000000e+00</td>\n",
       "      <td>g</td>\n",
       "    </tr>\n",
       "    <tr>\n",
       "      <th>9</th>\n",
       "      <td>327.475006</td>\n",
       "      <td>2.644892e-142</td>\n",
       "      <td>fiber_ID</td>\n",
       "    </tr>\n",
       "    <tr>\n",
       "      <th>10</th>\n",
       "      <td>155.686677</td>\n",
       "      <td>3.403500e-68</td>\n",
       "      <td>delta</td>\n",
       "    </tr>\n",
       "    <tr>\n",
       "      <th>11</th>\n",
       "      <td>94.141091</td>\n",
       "      <td>1.473708e-41</td>\n",
       "      <td>obj_ID</td>\n",
       "    </tr>\n",
       "    <tr>\n",
       "      <th>12</th>\n",
       "      <td>94.082007</td>\n",
       "      <td>1.563164e-41</td>\n",
       "      <td>run_ID</td>\n",
       "    </tr>\n",
       "    <tr>\n",
       "      <th>13</th>\n",
       "      <td>57.311970</td>\n",
       "      <td>1.347474e-25</td>\n",
       "      <td>field_ID</td>\n",
       "    </tr>\n",
       "    <tr>\n",
       "      <th>14</th>\n",
       "      <td>21.068184</td>\n",
       "      <td>7.126569e-10</td>\n",
       "      <td>cam_col</td>\n",
       "    </tr>\n",
       "    <tr>\n",
       "      <th>15</th>\n",
       "      <td>14.527043</td>\n",
       "      <td>4.923321e-07</td>\n",
       "      <td>alpha</td>\n",
       "    </tr>\n",
       "  </tbody>\n",
       "</table>\n",
       "</div>"
      ],
      "text/plain": [
       "         f_score        p_value          col\n",
       "0   59690.777219   0.000000e+00     redshift\n",
       "1    7375.488908   0.000000e+00            z\n",
       "2    6031.819122   0.000000e+00            i\n",
       "3    3793.581787   0.000000e+00  spec_obj_ID\n",
       "4    3793.574919   0.000000e+00        plate\n",
       "5    3378.618866   0.000000e+00            r\n",
       "6    3238.024539   0.000000e+00          MJD\n",
       "7    3075.334656   0.000000e+00            u\n",
       "8    2723.861524   0.000000e+00            g\n",
       "9     327.475006  2.644892e-142     fiber_ID\n",
       "10    155.686677   3.403500e-68        delta\n",
       "11     94.141091   1.473708e-41       obj_ID\n",
       "12     94.082007   1.563164e-41       run_ID\n",
       "13     57.311970   1.347474e-25     field_ID\n",
       "14     21.068184   7.126569e-10      cam_col\n",
       "15     14.527043   4.923321e-07        alpha"
      ]
     },
     "execution_count": 31,
     "metadata": {},
     "output_type": "execute_result"
    }
   ],
   "source": [
    "fs_df = fs_df.sort_values(by=['f_score'], ascending=False)\n",
    "fs_df = fs_df.reset_index(drop=True)\n",
    "fs_df"
   ]
  },
  {
   "cell_type": "code",
   "execution_count": 32,
   "id": "31df3974",
   "metadata": {
    "execution": {
     "iopub.execute_input": "2022-01-17T00:49:05.677381Z",
     "iopub.status.busy": "2022-01-17T00:49:05.676773Z",
     "iopub.status.idle": "2022-01-17T00:49:05.688448Z",
     "shell.execute_reply": "2022-01-17T00:49:05.687988Z",
     "shell.execute_reply.started": "2022-01-17T00:31:34.547082Z"
    },
    "papermill": {
     "duration": 0.054804,
     "end_time": "2022-01-17T00:49:05.688584",
     "exception": false,
     "start_time": "2022-01-17T00:49:05.633780",
     "status": "completed"
    },
    "tags": []
   },
   "outputs": [
    {
     "data": {
      "text/html": [
       "<div>\n",
       "<style scoped>\n",
       "    .dataframe tbody tr th:only-of-type {\n",
       "        vertical-align: middle;\n",
       "    }\n",
       "\n",
       "    .dataframe tbody tr th {\n",
       "        vertical-align: top;\n",
       "    }\n",
       "\n",
       "    .dataframe thead th {\n",
       "        text-align: right;\n",
       "    }\n",
       "</style>\n",
       "<table border=\"1\" class=\"dataframe\">\n",
       "  <thead>\n",
       "    <tr style=\"text-align: right;\">\n",
       "      <th></th>\n",
       "      <th>f_score</th>\n",
       "      <th>p_value</th>\n",
       "      <th>col</th>\n",
       "    </tr>\n",
       "  </thead>\n",
       "  <tbody>\n",
       "    <tr>\n",
       "      <th>0</th>\n",
       "      <td>59690.777219</td>\n",
       "      <td>0.000000e+00</td>\n",
       "      <td>redshift</td>\n",
       "    </tr>\n",
       "    <tr>\n",
       "      <th>1</th>\n",
       "      <td>7375.488908</td>\n",
       "      <td>0.000000e+00</td>\n",
       "      <td>z</td>\n",
       "    </tr>\n",
       "    <tr>\n",
       "      <th>2</th>\n",
       "      <td>6031.819122</td>\n",
       "      <td>0.000000e+00</td>\n",
       "      <td>i</td>\n",
       "    </tr>\n",
       "    <tr>\n",
       "      <th>3</th>\n",
       "      <td>3793.581787</td>\n",
       "      <td>0.000000e+00</td>\n",
       "      <td>spec_obj_ID</td>\n",
       "    </tr>\n",
       "    <tr>\n",
       "      <th>4</th>\n",
       "      <td>3793.574919</td>\n",
       "      <td>0.000000e+00</td>\n",
       "      <td>plate</td>\n",
       "    </tr>\n",
       "    <tr>\n",
       "      <th>5</th>\n",
       "      <td>3378.618866</td>\n",
       "      <td>0.000000e+00</td>\n",
       "      <td>r</td>\n",
       "    </tr>\n",
       "    <tr>\n",
       "      <th>6</th>\n",
       "      <td>3238.024539</td>\n",
       "      <td>0.000000e+00</td>\n",
       "      <td>MJD</td>\n",
       "    </tr>\n",
       "    <tr>\n",
       "      <th>7</th>\n",
       "      <td>3075.334656</td>\n",
       "      <td>0.000000e+00</td>\n",
       "      <td>u</td>\n",
       "    </tr>\n",
       "    <tr>\n",
       "      <th>8</th>\n",
       "      <td>2723.861524</td>\n",
       "      <td>0.000000e+00</td>\n",
       "      <td>g</td>\n",
       "    </tr>\n",
       "    <tr>\n",
       "      <th>9</th>\n",
       "      <td>327.475006</td>\n",
       "      <td>2.644892e-142</td>\n",
       "      <td>fiber_ID</td>\n",
       "    </tr>\n",
       "    <tr>\n",
       "      <th>10</th>\n",
       "      <td>155.686677</td>\n",
       "      <td>3.403500e-68</td>\n",
       "      <td>delta</td>\n",
       "    </tr>\n",
       "    <tr>\n",
       "      <th>11</th>\n",
       "      <td>94.141091</td>\n",
       "      <td>1.473708e-41</td>\n",
       "      <td>obj_ID</td>\n",
       "    </tr>\n",
       "    <tr>\n",
       "      <th>12</th>\n",
       "      <td>94.082007</td>\n",
       "      <td>1.563164e-41</td>\n",
       "      <td>run_ID</td>\n",
       "    </tr>\n",
       "    <tr>\n",
       "      <th>13</th>\n",
       "      <td>57.311970</td>\n",
       "      <td>1.347474e-25</td>\n",
       "      <td>field_ID</td>\n",
       "    </tr>\n",
       "    <tr>\n",
       "      <th>14</th>\n",
       "      <td>21.068184</td>\n",
       "      <td>7.126569e-10</td>\n",
       "      <td>cam_col</td>\n",
       "    </tr>\n",
       "    <tr>\n",
       "      <th>15</th>\n",
       "      <td>14.527043</td>\n",
       "      <td>4.923321e-07</td>\n",
       "      <td>alpha</td>\n",
       "    </tr>\n",
       "  </tbody>\n",
       "</table>\n",
       "</div>"
      ],
      "text/plain": [
       "         f_score        p_value          col\n",
       "0   59690.777219   0.000000e+00     redshift\n",
       "1    7375.488908   0.000000e+00            z\n",
       "2    6031.819122   0.000000e+00            i\n",
       "3    3793.581787   0.000000e+00  spec_obj_ID\n",
       "4    3793.574919   0.000000e+00        plate\n",
       "5    3378.618866   0.000000e+00            r\n",
       "6    3238.024539   0.000000e+00          MJD\n",
       "7    3075.334656   0.000000e+00            u\n",
       "8    2723.861524   0.000000e+00            g\n",
       "9     327.475006  2.644892e-142     fiber_ID\n",
       "10    155.686677   3.403500e-68        delta\n",
       "11     94.141091   1.473708e-41       obj_ID\n",
       "12     94.082007   1.563164e-41       run_ID\n",
       "13     57.311970   1.347474e-25     field_ID\n",
       "14     21.068184   7.126569e-10      cam_col\n",
       "15     14.527043   4.923321e-07        alpha"
      ]
     },
     "execution_count": 32,
     "metadata": {},
     "output_type": "execute_result"
    }
   ],
   "source": [
    "fs_df.loc[fs_df['p_value'] <= 0.05]"
   ]
  },
  {
   "cell_type": "code",
   "execution_count": 33,
   "id": "364b23f2",
   "metadata": {
    "execution": {
     "iopub.execute_input": "2022-01-17T00:49:05.779274Z",
     "iopub.status.busy": "2022-01-17T00:49:05.778586Z",
     "iopub.status.idle": "2022-01-17T00:49:06.031214Z",
     "shell.execute_reply": "2022-01-17T00:49:06.031625Z",
     "shell.execute_reply.started": "2022-01-17T00:31:34.562753Z"
    },
    "papermill": {
     "duration": 0.301859,
     "end_time": "2022-01-17T00:49:06.031791",
     "exception": false,
     "start_time": "2022-01-17T00:49:05.729932",
     "status": "completed"
    },
    "tags": []
   },
   "outputs": [
    {
     "data": {
      "image/png": "[encoded data removed]",
      "text/plain": [
       "<Figure size 1080x360 with 1 Axes>"
      ]
     },
     "metadata": {
      "needs_background": "light"
     },
     "output_type": "display_data"
    }
   ],
   "source": [
    "from matplotlib import pyplot as plt\n",
    "plt.figure(figsize=(15,5))\n",
    "plt.bar(fs_df['col'],fs_df['f_score'])\n",
    "plt.xlabel('columns')\n",
    "plt.ylabel('f_score')\n",
    "plt.show()"
   ]
  },
  {
   "cell_type": "code",
   "execution_count": 34,
   "id": "4c38d56d",
   "metadata": {
    "execution": {
     "iopub.execute_input": "2022-01-17T00:49:06.137704Z",
     "iopub.status.busy": "2022-01-17T00:49:06.125780Z",
     "iopub.status.idle": "2022-01-17T00:49:06.352356Z",
     "shell.execute_reply": "2022-01-17T00:49:06.351745Z",
     "shell.execute_reply.started": "2022-01-17T00:31:34.795121Z"
    },
    "papermill": {
     "duration": 0.277944,
     "end_time": "2022-01-17T00:49:06.352490",
     "exception": false,
     "start_time": "2022-01-17T00:49:06.074546",
     "status": "completed"
    },
    "tags": []
   },
   "outputs": [
    {
     "data": {
      "image/png": "[encoded data removed]",
      "text/plain": [
       "<Figure size 1080x360 with 1 Axes>"
      ]
     },
     "metadata": {
      "needs_background": "light"
     },
     "output_type": "display_data"
    }
   ],
   "source": [
    "plt.figure(figsize=(15,5))\n",
    "plt.bar(fs_df.loc[fs_df['f_score'] <10000]['col'], fs_df.loc[fs_df['f_score'] < 10000]['f_score'])\n",
    "plt.xlabel('columns')\n",
    "plt.ylabel('f_score')\n",
    "plt.show()"
   ]
  },
  {
   "cell_type": "code",
   "execution_count": 35,
   "id": "342938a9",
   "metadata": {
    "execution": {
     "iopub.execute_input": "2022-01-17T00:49:06.445802Z",
     "iopub.status.busy": "2022-01-17T00:49:06.445078Z",
     "iopub.status.idle": "2022-01-17T00:49:06.448023Z",
     "shell.execute_reply": "2022-01-17T00:49:06.448464Z",
     "shell.execute_reply.started": "2022-01-17T00:31:35.001446Z"
    },
    "papermill": {
     "duration": 0.053025,
     "end_time": "2022-01-17T00:49:06.448622",
     "exception": false,
     "start_time": "2022-01-17T00:49:06.395597",
     "status": "completed"
    },
    "tags": []
   },
   "outputs": [
    {
     "data": {
      "text/plain": [
       "['redshift', 'z', 'i', 'spec_obj_ID', 'plate', 'r', 'MJD', 'u', 'g']"
      ]
     },
     "execution_count": 35,
     "metadata": {},
     "output_type": "execute_result"
    }
   ],
   "source": [
    "fs_sel = []\n",
    "for i in range(len(fs_df.loc[fs_df['f_score'] > 2000])):\n",
    "    fs_sel.append(fs_df['col'][i])\n",
    "\n",
    "fs_sel"
   ]
  },
  {
   "cell_type": "code",
   "execution_count": 36,
   "id": "7eee970a",
   "metadata": {
    "execution": {
     "iopub.execute_input": "2022-01-17T00:49:06.538717Z",
     "iopub.status.busy": "2022-01-17T00:49:06.538155Z",
     "iopub.status.idle": "2022-01-17T00:49:06.540110Z",
     "shell.execute_reply": "2022-01-17T00:49:06.540616Z",
     "shell.execute_reply.started": "2022-01-17T00:31:35.010605Z"
    },
    "papermill": {
     "duration": 0.049469,
     "end_time": "2022-01-17T00:49:06.540777",
     "exception": false,
     "start_time": "2022-01-17T00:49:06.491308",
     "status": "completed"
    },
    "tags": []
   },
   "outputs": [],
   "source": [
    "fs_sel.append('class_enc')"
   ]
  },
  {
   "cell_type": "code",
   "execution_count": 37,
   "id": "fa23bbda",
   "metadata": {
    "execution": {
     "iopub.execute_input": "2022-01-17T00:49:06.628850Z",
     "iopub.status.busy": "2022-01-17T00:49:06.628231Z",
     "iopub.status.idle": "2022-01-17T00:49:06.635501Z",
     "shell.execute_reply": "2022-01-17T00:49:06.636093Z",
     "shell.execute_reply.started": "2022-01-17T00:31:35.023695Z"
    },
    "papermill": {
     "duration": 0.05293,
     "end_time": "2022-01-17T00:49:06.636254",
     "exception": false,
     "start_time": "2022-01-17T00:49:06.583324",
     "status": "completed"
    },
    "tags": []
   },
   "outputs": [],
   "source": [
    "df_test['class_enc'] = df_test['class'].map(t)\n",
    "df_test = df_test.drop(columns=['class'],axis=1)"
   ]
  },
  {
   "cell_type": "code",
   "execution_count": 38,
   "id": "3894b4a5",
   "metadata": {
    "execution": {
     "iopub.execute_input": "2022-01-17T00:49:06.724708Z",
     "iopub.status.busy": "2022-01-17T00:49:06.724149Z",
     "iopub.status.idle": "2022-01-17T00:49:06.735106Z",
     "shell.execute_reply": "2022-01-17T00:49:06.735602Z",
     "shell.execute_reply.started": "2022-01-17T00:31:35.040679Z"
    },
    "papermill": {
     "duration": 0.056957,
     "end_time": "2022-01-17T00:49:06.735795",
     "exception": false,
     "start_time": "2022-01-17T00:49:06.678838",
     "status": "completed"
    },
    "tags": []
   },
   "outputs": [],
   "source": [
    "df_train = df_train[fs_sel]\n",
    "df_test = df_test[fs_sel]\n",
    "df_val = df_val[fs_sel]"
   ]
  },
  {
   "cell_type": "code",
   "execution_count": 39,
   "id": "6a26430a",
   "metadata": {
    "execution": {
     "iopub.execute_input": "2022-01-17T00:49:06.826105Z",
     "iopub.status.busy": "2022-01-17T00:49:06.825494Z",
     "iopub.status.idle": "2022-01-17T00:49:06.829647Z",
     "shell.execute_reply": "2022-01-17T00:49:06.830186Z",
     "shell.execute_reply.started": "2022-01-17T00:31:35.057533Z"
    },
    "papermill": {
     "duration": 0.049756,
     "end_time": "2022-01-17T00:49:06.830349",
     "exception": false,
     "start_time": "2022-01-17T00:49:06.780593",
     "status": "completed"
    },
    "tags": []
   },
   "outputs": [
    {
     "data": {
      "text/plain": [
       "(18000, 10)"
      ]
     },
     "execution_count": 39,
     "metadata": {},
     "output_type": "execute_result"
    }
   ],
   "source": [
    "df_val.shape"
   ]
  },
  {
   "cell_type": "code",
   "execution_count": 40,
   "id": "c338f449",
   "metadata": {
    "execution": {
     "iopub.execute_input": "2022-01-17T00:49:06.920650Z",
     "iopub.status.busy": "2022-01-17T00:49:06.920092Z",
     "iopub.status.idle": "2022-01-17T00:49:06.926357Z",
     "shell.execute_reply": "2022-01-17T00:49:06.926790Z",
     "shell.execute_reply.started": "2022-01-17T00:31:35.073913Z"
    },
    "papermill": {
     "duration": 0.052711,
     "end_time": "2022-01-17T00:49:06.926962",
     "exception": false,
     "start_time": "2022-01-17T00:49:06.874251",
     "status": "completed"
    },
    "tags": []
   },
   "outputs": [
    {
     "data": {
      "text/plain": [
       "0    42793\n",
       "2    15507\n",
       "1    13699\n",
       "Name: class_enc, dtype: int64"
      ]
     },
     "execution_count": 40,
     "metadata": {},
     "output_type": "execute_result"
    }
   ],
   "source": [
    "df_train['class_enc'].value_counts()"
   ]
  },
  {
   "cell_type": "code",
   "execution_count": 41,
   "id": "d65dc9c0",
   "metadata": {
    "execution": {
     "iopub.execute_input": "2022-01-17T00:49:07.017781Z",
     "iopub.status.busy": "2022-01-17T00:49:07.016921Z",
     "iopub.status.idle": "2022-01-17T00:49:07.026677Z",
     "shell.execute_reply": "2022-01-17T00:49:07.027226Z",
     "shell.execute_reply.started": "2022-01-17T00:31:35.091460Z"
    },
    "papermill": {
     "duration": 0.057048,
     "end_time": "2022-01-17T00:49:07.027388",
     "exception": false,
     "start_time": "2022-01-17T00:49:06.970340",
     "status": "completed"
    },
    "tags": []
   },
   "outputs": [
    {
     "data": {
      "text/plain": [
       "(89999, 10)"
      ]
     },
     "execution_count": 41,
     "metadata": {},
     "output_type": "execute_result"
    }
   ],
   "source": [
    "# since we are using cross val score and kfold, lets combine train and val datasets.\n",
    "df_com = pd.concat([df_train,df_val])\n",
    "df_com.shape"
   ]
  },
  {
   "cell_type": "code",
   "execution_count": 42,
   "id": "86a28d9f",
   "metadata": {
    "execution": {
     "iopub.execute_input": "2022-01-17T00:49:07.128966Z",
     "iopub.status.busy": "2022-01-17T00:49:07.119854Z",
     "iopub.status.idle": "2022-01-17T00:49:07.298604Z",
     "shell.execute_reply": "2022-01-17T00:49:07.298104Z",
     "shell.execute_reply.started": "2022-01-17T00:31:35.109220Z"
    },
    "papermill": {
     "duration": 0.226148,
     "end_time": "2022-01-17T00:49:07.298758",
     "exception": false,
     "start_time": "2022-01-17T00:49:07.072610",
     "status": "completed"
    },
    "tags": []
   },
   "outputs": [],
   "source": [
    "# Imbalanced dataset\n",
    "from numpy import mean\n",
    "from sklearn.model_selection import RepeatedStratifiedKFold\n",
    "from sklearn.model_selection import cross_val_score\n",
    "from sklearn.ensemble import RandomForestClassifier\n",
    "from imblearn.ensemble import BalancedRandomForestClassifier\n",
    "from sklearn.naive_bayes import GaussianNB\n",
    "from sklearn.neighbors import KNeighborsClassifier\n",
    "from sklearn.svm import SVC\n",
    "\n",
    "from sklearn.metrics import accuracy_score\n",
    "from sklearn.metrics import plot_roc_curve\n",
    "\n",
    "X = df_com.drop(['class_enc'],axis=1)\n",
    "y = df_com['class_enc']\n",
    "\n",
    "def rrf(X,y):\n",
    "    model = RandomForestClassifier(n_estimators=10)\n",
    "    cv = RepeatedStratifiedKFold(n_splits=10, n_repeats=3, random_state=25)\n",
    "    scores = cross_val_score(model, X,y, scoring = 'balanced_accuracy', cv=cv, n_jobs=-1)\n",
    "\n",
    "    m = mean(scores)\n",
    "\n",
    "    return m\n",
    "\n",
    "def brf(X,y):\n",
    "    model = BalancedRandomForestClassifier(n_estimators=10)\n",
    "    cv = RepeatedStratifiedKFold(n_splits=10, n_repeats=3, random_state = 25)\n",
    "    scores  = cross_val_score(model, X,y, scoring = 'balanced_accuracy', cv=cv, n_jobs=-1)\n",
    "    \n",
    "    m = mean(scores)\n",
    "    \n",
    "    return m\n",
    "\n",
    "def nb(X,y):\n",
    "    model = GaussianNB()\n",
    "    cv = RepeatedStratifiedKFold(n_splits=10, n_repeats=3, random_state=25)\n",
    "    scores = cross_val_score(model, X,y, scoring='balanced_accuracy', cv=cv, n_jobs=-1)\n",
    "    \n",
    "    m = mean(scores)\n",
    "    \n",
    "    return m\n",
    "\n",
    "def knc(X,y):\n",
    "    model = KNeighborsClassifier()\n",
    "    cv = RepeatedStratifiedKFold(n_splits=10, n_repeats=3, random_state=25)\n",
    "    scores = cross_val_score(model, X,y, scoring='balanced_accuracy', cv=cv, n_jobs=-1)\n",
    "    \n",
    "    m = mean(scores)\n",
    "    \n",
    "    return m\n",
    "\n",
    "def svc(X,y):\n",
    "    model = SVC()\n",
    "    cv = RepeatedStratifiedKFold(n_splits=10, n_repeats=3, random_state=25)\n",
    "    scores = cross_val_score(model, X,y, scoring='balanced_accuracy', cv=cv, n_jobs=-1)\n",
    "    \n",
    "    m = mean(scores)\n",
    "    \n",
    "    return m"
   ]
  },
  {
   "cell_type": "code",
   "execution_count": 43,
   "id": "ea401c4f",
   "metadata": {
    "execution": {
     "iopub.execute_input": "2022-01-17T00:49:07.390109Z",
     "iopub.status.busy": "2022-01-17T00:49:07.389120Z",
     "iopub.status.idle": "2022-01-17T00:49:07.391636Z",
     "shell.execute_reply": "2022-01-17T00:49:07.391064Z",
     "shell.execute_reply.started": "2022-01-17T00:31:35.291803Z"
    },
    "papermill": {
     "duration": 0.049514,
     "end_time": "2022-01-17T00:49:07.391768",
     "exception": false,
     "start_time": "2022-01-17T00:49:07.342254",
     "status": "completed"
    },
    "tags": []
   },
   "outputs": [],
   "source": [
    "#print(rrf(X,y))"
   ]
  },
  {
   "cell_type": "code",
   "execution_count": 44,
   "id": "320367e2",
   "metadata": {
    "execution": {
     "iopub.execute_input": "2022-01-17T00:49:07.483458Z",
     "iopub.status.busy": "2022-01-17T00:49:07.482427Z",
     "iopub.status.idle": "2022-01-17T00:49:07.484996Z",
     "shell.execute_reply": "2022-01-17T00:49:07.484417Z",
     "shell.execute_reply.started": "2022-01-17T00:31:35.297874Z"
    },
    "papermill": {
     "duration": 0.049824,
     "end_time": "2022-01-17T00:49:07.485134",
     "exception": false,
     "start_time": "2022-01-17T00:49:07.435310",
     "status": "completed"
    },
    "tags": []
   },
   "outputs": [],
   "source": [
    "#print(brf(X,y))"
   ]
  },
  {
   "cell_type": "code",
   "execution_count": 45,
   "id": "4dcd6310",
   "metadata": {
    "execution": {
     "iopub.execute_input": "2022-01-17T00:49:07.577152Z",
     "iopub.status.busy": "2022-01-17T00:49:07.576249Z",
     "iopub.status.idle": "2022-01-17T00:49:07.578879Z",
     "shell.execute_reply": "2022-01-17T00:49:07.578386Z",
     "shell.execute_reply.started": "2022-01-17T00:31:35.309808Z"
    },
    "papermill": {
     "duration": 0.050013,
     "end_time": "2022-01-17T00:49:07.579017",
     "exception": false,
     "start_time": "2022-01-17T00:49:07.529004",
     "status": "completed"
    },
    "tags": []
   },
   "outputs": [],
   "source": [
    "#print(nb(X,y))"
   ]
  },
  {
   "cell_type": "code",
   "execution_count": 46,
   "id": "1a6d6f62",
   "metadata": {
    "execution": {
     "iopub.execute_input": "2022-01-17T00:49:07.669710Z",
     "iopub.status.busy": "2022-01-17T00:49:07.669137Z",
     "iopub.status.idle": "2022-01-17T00:49:07.671421Z",
     "shell.execute_reply": "2022-01-17T00:49:07.670876Z",
     "shell.execute_reply.started": "2022-01-17T00:31:35.321969Z"
    },
    "papermill": {
     "duration": 0.049049,
     "end_time": "2022-01-17T00:49:07.671544",
     "exception": false,
     "start_time": "2022-01-17T00:49:07.622495",
     "status": "completed"
    },
    "tags": []
   },
   "outputs": [],
   "source": [
    "#print(knc(X,y))"
   ]
  },
  {
   "cell_type": "code",
   "execution_count": 47,
   "id": "452a9600",
   "metadata": {
    "execution": {
     "iopub.execute_input": "2022-01-17T00:49:07.764057Z",
     "iopub.status.busy": "2022-01-17T00:49:07.763369Z",
     "iopub.status.idle": "2022-01-17T00:49:07.765767Z",
     "shell.execute_reply": "2022-01-17T00:49:07.766264Z",
     "shell.execute_reply.started": "2022-01-17T00:31:35.333986Z"
    },
    "papermill": {
     "duration": 0.05042,
     "end_time": "2022-01-17T00:49:07.766438",
     "exception": false,
     "start_time": "2022-01-17T00:49:07.716018",
     "status": "completed"
    },
    "tags": []
   },
   "outputs": [],
   "source": [
    "# Running forever\n",
    "#print(svc(X,y))"
   ]
  },
  {
   "cell_type": "code",
   "execution_count": 48,
   "id": "43c09c88",
   "metadata": {
    "execution": {
     "iopub.execute_input": "2022-01-17T00:49:07.860785Z",
     "iopub.status.busy": "2022-01-17T00:49:07.859976Z",
     "iopub.status.idle": "2022-01-17T00:49:30.520915Z",
     "shell.execute_reply": "2022-01-17T00:49:30.520358Z",
     "shell.execute_reply.started": "2022-01-17T00:31:35.346714Z"
    },
    "papermill": {
     "duration": 22.709844,
     "end_time": "2022-01-17T00:49:30.521070",
     "exception": false,
     "start_time": "2022-01-17T00:49:07.811226",
     "status": "completed"
    },
    "tags": []
   },
   "outputs": [],
   "source": [
    "model = BalancedRandomForestClassifier(n_estimators=10)\n",
    "cv = RepeatedStratifiedKFold(n_splits=10, n_repeats=3, random_state = 25)\n",
    "scores  = cross_val_score(model, X,y, scoring = 'balanced_accuracy', cv=cv, n_jobs=-1)\n",
    "    \n",
    "m = mean(scores)"
   ]
  },
  {
   "cell_type": "code",
   "execution_count": 49,
   "id": "ce639dd8",
   "metadata": {
    "execution": {
     "iopub.execute_input": "2022-01-17T00:49:30.614346Z",
     "iopub.status.busy": "2022-01-17T00:49:30.613585Z",
     "iopub.status.idle": "2022-01-17T00:49:30.617219Z",
     "shell.execute_reply": "2022-01-17T00:49:30.616661Z",
     "shell.execute_reply.started": "2022-01-17T00:31:55.870989Z"
    },
    "papermill": {
     "duration": 0.052345,
     "end_time": "2022-01-17T00:49:30.617355",
     "exception": false,
     "start_time": "2022-01-17T00:49:30.565010",
     "status": "completed"
    },
    "tags": []
   },
   "outputs": [
    {
     "data": {
      "text/plain": [
       "0.9733748731344912"
      ]
     },
     "execution_count": 49,
     "metadata": {},
     "output_type": "execute_result"
    }
   ],
   "source": [
    "m"
   ]
  },
  {
   "cell_type": "code",
   "execution_count": 50,
   "id": "bc92d49d",
   "metadata": {
    "execution": {
     "iopub.execute_input": "2022-01-17T00:49:30.711717Z",
     "iopub.status.busy": "2022-01-17T00:49:30.711169Z",
     "iopub.status.idle": "2022-01-17T00:49:30.726404Z",
     "shell.execute_reply": "2022-01-17T00:49:30.726931Z",
     "shell.execute_reply.started": "2022-01-17T00:31:55.879435Z"
    },
    "papermill": {
     "duration": 0.062087,
     "end_time": "2022-01-17T00:49:30.727097",
     "exception": false,
     "start_time": "2022-01-17T00:49:30.665010",
     "status": "completed"
    },
    "tags": []
   },
   "outputs": [
    {
     "data": {
      "text/html": [
       "<div>\n",
       "<style scoped>\n",
       "    .dataframe tbody tr th:only-of-type {\n",
       "        vertical-align: middle;\n",
       "    }\n",
       "\n",
       "    .dataframe tbody tr th {\n",
       "        vertical-align: top;\n",
       "    }\n",
       "\n",
       "    .dataframe thead th {\n",
       "        text-align: right;\n",
       "    }\n",
       "</style>\n",
       "<table border=\"1\" class=\"dataframe\">\n",
       "  <thead>\n",
       "    <tr style=\"text-align: right;\">\n",
       "      <th></th>\n",
       "      <th>redshift</th>\n",
       "      <th>z</th>\n",
       "      <th>i</th>\n",
       "      <th>spec_obj_ID</th>\n",
       "      <th>plate</th>\n",
       "      <th>r</th>\n",
       "      <th>MJD</th>\n",
       "      <th>u</th>\n",
       "      <th>g</th>\n",
       "      <th>class_enc</th>\n",
       "    </tr>\n",
       "  </thead>\n",
       "  <tbody>\n",
       "    <tr>\n",
       "      <th>0</th>\n",
       "      <td>0.374756</td>\n",
       "      <td>17.98124</td>\n",
       "      <td>18.31696</td>\n",
       "      <td>5.529741e+17</td>\n",
       "      <td>491</td>\n",
       "      <td>18.96537</td>\n",
       "      <td>51942</td>\n",
       "      <td>22.13367</td>\n",
       "      <td>20.84772</td>\n",
       "      <td>0</td>\n",
       "    </tr>\n",
       "    <tr>\n",
       "      <th>1</th>\n",
       "      <td>0.662310</td>\n",
       "      <td>18.83176</td>\n",
       "      <td>19.08481</td>\n",
       "      <td>9.390322e+17</td>\n",
       "      <td>834</td>\n",
       "      <td>19.66170</td>\n",
       "      <td>52316</td>\n",
       "      <td>25.44243</td>\n",
       "      <td>20.77028</td>\n",
       "      <td>0</td>\n",
       "    </tr>\n",
       "    <tr>\n",
       "      <th>2</th>\n",
       "      <td>0.320806</td>\n",
       "      <td>18.49419</td>\n",
       "      <td>18.90489</td>\n",
       "      <td>1.427672e+18</td>\n",
       "      <td>1268</td>\n",
       "      <td>19.59078</td>\n",
       "      <td>52933</td>\n",
       "      <td>24.91692</td>\n",
       "      <td>21.27143</td>\n",
       "      <td>0</td>\n",
       "    </tr>\n",
       "    <tr>\n",
       "      <th>3</th>\n",
       "      <td>0.346654</td>\n",
       "      <td>17.73204</td>\n",
       "      <td>18.16925</td>\n",
       "      <td>1.427681e+18</td>\n",
       "      <td>1268</td>\n",
       "      <td>18.83662</td>\n",
       "      <td>52933</td>\n",
       "      <td>23.01294</td>\n",
       "      <td>20.46514</td>\n",
       "      <td>0</td>\n",
       "    </tr>\n",
       "    <tr>\n",
       "      <th>4</th>\n",
       "      <td>0.089251</td>\n",
       "      <td>16.97431</td>\n",
       "      <td>17.14015</td>\n",
       "      <td>1.567391e+18</td>\n",
       "      <td>1392</td>\n",
       "      <td>17.46046</td>\n",
       "      <td>52822</td>\n",
       "      <td>19.18550</td>\n",
       "      <td>18.02785</td>\n",
       "      <td>0</td>\n",
       "    </tr>\n",
       "  </tbody>\n",
       "</table>\n",
       "</div>"
      ],
      "text/plain": [
       "   redshift         z         i   spec_obj_ID  plate         r    MJD  \\\n",
       "0  0.374756  17.98124  18.31696  5.529741e+17    491  18.96537  51942   \n",
       "1  0.662310  18.83176  19.08481  9.390322e+17    834  19.66170  52316   \n",
       "2  0.320806  18.49419  18.90489  1.427672e+18   1268  19.59078  52933   \n",
       "3  0.346654  17.73204  18.16925  1.427681e+18   1268  18.83662  52933   \n",
       "4  0.089251  16.97431  17.14015  1.567391e+18   1392  17.46046  52822   \n",
       "\n",
       "          u         g  class_enc  \n",
       "0  22.13367  20.84772          0  \n",
       "1  25.44243  20.77028          0  \n",
       "2  24.91692  21.27143          0  \n",
       "3  23.01294  20.46514          0  \n",
       "4  19.18550  18.02785          0  "
      ]
     },
     "execution_count": 50,
     "metadata": {},
     "output_type": "execute_result"
    }
   ],
   "source": [
    "t1 = {0:'GALAXY',1:'QSO',2:'STAR'}\n",
    "df_test = df_test.reset_index(drop=True)\n",
    "df_test.head()"
   ]
  },
  {
   "cell_type": "code",
   "execution_count": 51,
   "id": "01fdba4a",
   "metadata": {
    "execution": {
     "iopub.execute_input": "2022-01-17T00:49:30.818292Z",
     "iopub.status.busy": "2022-01-17T00:49:30.817629Z",
     "iopub.status.idle": "2022-01-17T00:49:32.732568Z",
     "shell.execute_reply": "2022-01-17T00:49:32.733062Z",
     "shell.execute_reply.started": "2022-01-17T00:31:55.907757Z"
    },
    "papermill": {
     "duration": 1.962156,
     "end_time": "2022-01-17T00:49:32.733234",
     "exception": false,
     "start_time": "2022-01-17T00:49:30.771078",
     "status": "completed"
    },
    "tags": []
   },
   "outputs": [
    {
     "data": {
      "text/plain": [
       "array([0, 0, 0, ..., 1, 1, 0])"
      ]
     },
     "execution_count": 51,
     "metadata": {},
     "output_type": "execute_result"
    }
   ],
   "source": [
    "test_X = df_test.drop(columns=['class_enc'],axis=1)\n",
    "test_y = df_test['class_enc']\n",
    "\n",
    "model.fit(X,y)\n",
    "pred = model.predict(test_X)\n",
    "pred"
   ]
  },
  {
   "cell_type": "code",
   "execution_count": 52,
   "id": "407dcf8f",
   "metadata": {
    "execution": {
     "iopub.execute_input": "2022-01-17T00:49:32.825178Z",
     "iopub.status.busy": "2022-01-17T00:49:32.824376Z",
     "iopub.status.idle": "2022-01-17T00:49:32.837801Z",
     "shell.execute_reply": "2022-01-17T00:49:32.838341Z",
     "shell.execute_reply.started": "2022-01-17T00:31:58.068766Z"
    },
    "papermill": {
     "duration": 0.061077,
     "end_time": "2022-01-17T00:49:32.838502",
     "exception": false,
     "start_time": "2022-01-17T00:49:32.777425",
     "status": "completed"
    },
    "tags": []
   },
   "outputs": [
    {
     "data": {
      "text/html": [
       "<div>\n",
       "<style scoped>\n",
       "    .dataframe tbody tr th:only-of-type {\n",
       "        vertical-align: middle;\n",
       "    }\n",
       "\n",
       "    .dataframe tbody tr th {\n",
       "        vertical-align: top;\n",
       "    }\n",
       "\n",
       "    .dataframe thead th {\n",
       "        text-align: right;\n",
       "    }\n",
       "</style>\n",
       "<table border=\"1\" class=\"dataframe\">\n",
       "  <thead>\n",
       "    <tr style=\"text-align: right;\">\n",
       "      <th></th>\n",
       "      <th>redshift</th>\n",
       "      <th>z</th>\n",
       "      <th>i</th>\n",
       "      <th>spec_obj_ID</th>\n",
       "      <th>plate</th>\n",
       "      <th>r</th>\n",
       "      <th>MJD</th>\n",
       "      <th>u</th>\n",
       "      <th>g</th>\n",
       "      <th>class_enc</th>\n",
       "      <th>pred</th>\n",
       "    </tr>\n",
       "  </thead>\n",
       "  <tbody>\n",
       "    <tr>\n",
       "      <th>0</th>\n",
       "      <td>0.374756</td>\n",
       "      <td>17.98124</td>\n",
       "      <td>18.31696</td>\n",
       "      <td>5.529741e+17</td>\n",
       "      <td>491</td>\n",
       "      <td>18.96537</td>\n",
       "      <td>51942</td>\n",
       "      <td>22.13367</td>\n",
       "      <td>20.84772</td>\n",
       "      <td>0</td>\n",
       "      <td>0</td>\n",
       "    </tr>\n",
       "    <tr>\n",
       "      <th>1</th>\n",
       "      <td>0.662310</td>\n",
       "      <td>18.83176</td>\n",
       "      <td>19.08481</td>\n",
       "      <td>9.390322e+17</td>\n",
       "      <td>834</td>\n",
       "      <td>19.66170</td>\n",
       "      <td>52316</td>\n",
       "      <td>25.44243</td>\n",
       "      <td>20.77028</td>\n",
       "      <td>0</td>\n",
       "      <td>0</td>\n",
       "    </tr>\n",
       "    <tr>\n",
       "      <th>2</th>\n",
       "      <td>0.320806</td>\n",
       "      <td>18.49419</td>\n",
       "      <td>18.90489</td>\n",
       "      <td>1.427672e+18</td>\n",
       "      <td>1268</td>\n",
       "      <td>19.59078</td>\n",
       "      <td>52933</td>\n",
       "      <td>24.91692</td>\n",
       "      <td>21.27143</td>\n",
       "      <td>0</td>\n",
       "      <td>0</td>\n",
       "    </tr>\n",
       "    <tr>\n",
       "      <th>3</th>\n",
       "      <td>0.346654</td>\n",
       "      <td>17.73204</td>\n",
       "      <td>18.16925</td>\n",
       "      <td>1.427681e+18</td>\n",
       "      <td>1268</td>\n",
       "      <td>18.83662</td>\n",
       "      <td>52933</td>\n",
       "      <td>23.01294</td>\n",
       "      <td>20.46514</td>\n",
       "      <td>0</td>\n",
       "      <td>0</td>\n",
       "    </tr>\n",
       "    <tr>\n",
       "      <th>4</th>\n",
       "      <td>0.089251</td>\n",
       "      <td>16.97431</td>\n",
       "      <td>17.14015</td>\n",
       "      <td>1.567391e+18</td>\n",
       "      <td>1392</td>\n",
       "      <td>17.46046</td>\n",
       "      <td>52822</td>\n",
       "      <td>19.18550</td>\n",
       "      <td>18.02785</td>\n",
       "      <td>0</td>\n",
       "      <td>0</td>\n",
       "    </tr>\n",
       "  </tbody>\n",
       "</table>\n",
       "</div>"
      ],
      "text/plain": [
       "   redshift         z         i   spec_obj_ID  plate         r    MJD  \\\n",
       "0  0.374756  17.98124  18.31696  5.529741e+17    491  18.96537  51942   \n",
       "1  0.662310  18.83176  19.08481  9.390322e+17    834  19.66170  52316   \n",
       "2  0.320806  18.49419  18.90489  1.427672e+18   1268  19.59078  52933   \n",
       "3  0.346654  17.73204  18.16925  1.427681e+18   1268  18.83662  52933   \n",
       "4  0.089251  16.97431  17.14015  1.567391e+18   1392  17.46046  52822   \n",
       "\n",
       "          u         g  class_enc  pred  \n",
       "0  22.13367  20.84772          0     0  \n",
       "1  25.44243  20.77028          0     0  \n",
       "2  24.91692  21.27143          0     0  \n",
       "3  23.01294  20.46514          0     0  \n",
       "4  19.18550  18.02785          0     0  "
      ]
     },
     "execution_count": 52,
     "metadata": {},
     "output_type": "execute_result"
    }
   ],
   "source": [
    "df_test['pred'] = pred\n",
    "df_test.head()"
   ]
  },
  {
   "cell_type": "code",
   "execution_count": 53,
   "id": "cdc3c403",
   "metadata": {
    "execution": {
     "iopub.execute_input": "2022-01-17T00:49:32.931610Z",
     "iopub.status.busy": "2022-01-17T00:49:32.931067Z",
     "iopub.status.idle": "2022-01-17T00:49:32.936459Z",
     "shell.execute_reply": "2022-01-17T00:49:32.937029Z",
     "shell.execute_reply.started": "2022-01-17T00:31:58.088349Z"
    },
    "papermill": {
     "duration": 0.05378,
     "end_time": "2022-01-17T00:49:32.937187",
     "exception": false,
     "start_time": "2022-01-17T00:49:32.883407",
     "status": "completed"
    },
    "tags": []
   },
   "outputs": [
    {
     "data": {
      "text/plain": [
       "0.9744"
      ]
     },
     "execution_count": 53,
     "metadata": {},
     "output_type": "execute_result"
    }
   ],
   "source": [
    "accuracy_score(df_test['class_enc'],df_test['pred'])"
   ]
  },
  {
   "cell_type": "code",
   "execution_count": 54,
   "id": "91a61e2e",
   "metadata": {
    "execution": {
     "iopub.execute_input": "2022-01-17T00:49:33.031175Z",
     "iopub.status.busy": "2022-01-17T00:49:33.030529Z",
     "iopub.status.idle": "2022-01-17T00:49:33.250547Z",
     "shell.execute_reply": "2022-01-17T00:49:33.251039Z",
     "shell.execute_reply.started": "2022-01-17T00:31:58.099674Z"
    },
    "papermill": {
     "duration": 0.269027,
     "end_time": "2022-01-17T00:49:33.251200",
     "exception": false,
     "start_time": "2022-01-17T00:49:32.982173",
     "status": "completed"
    },
    "tags": []
   },
   "outputs": [
    {
     "data": {
      "image/png": "[encoded data removed]",
      "text/plain": [
       "<Figure size 432x288 with 2 Axes>"
      ]
     },
     "metadata": {
      "needs_background": "light"
     },
     "output_type": "display_data"
    }
   ],
   "source": [
    "from sklearn.metrics import confusion_matrix,ConfusionMatrixDisplay\n",
    "\n",
    "cm = confusion_matrix(df_test['class_enc'],df_test['pred'],labels=model.classes_)\n",
    "disp = ConfusionMatrixDisplay(confusion_matrix=cm, display_labels=model.classes_)\n",
    "disp.plot()\n",
    "plt.show()"
   ]
  },
  {
   "cell_type": "code",
   "execution_count": 55,
   "id": "a980269a",
   "metadata": {
    "execution": {
     "iopub.execute_input": "2022-01-17T00:49:33.345662Z",
     "iopub.status.busy": "2022-01-17T00:49:33.345062Z",
     "iopub.status.idle": "2022-01-17T00:49:33.361095Z",
     "shell.execute_reply": "2022-01-17T00:49:33.361550Z",
     "shell.execute_reply.started": "2022-01-17T00:31:58.285283Z"
    },
    "papermill": {
     "duration": 0.064813,
     "end_time": "2022-01-17T00:49:33.361708",
     "exception": false,
     "start_time": "2022-01-17T00:49:33.296895",
     "status": "completed"
    },
    "tags": []
   },
   "outputs": [
    {
     "data": {
      "text/html": [
       "<div>\n",
       "<style scoped>\n",
       "    .dataframe tbody tr th:only-of-type {\n",
       "        vertical-align: middle;\n",
       "    }\n",
       "\n",
       "    .dataframe tbody tr th {\n",
       "        vertical-align: top;\n",
       "    }\n",
       "\n",
       "    .dataframe thead th {\n",
       "        text-align: right;\n",
       "    }\n",
       "</style>\n",
       "<table border=\"1\" class=\"dataframe\">\n",
       "  <thead>\n",
       "    <tr style=\"text-align: right;\">\n",
       "      <th></th>\n",
       "      <th>redshift</th>\n",
       "      <th>z</th>\n",
       "      <th>i</th>\n",
       "      <th>spec_obj_ID</th>\n",
       "      <th>plate</th>\n",
       "      <th>r</th>\n",
       "      <th>MJD</th>\n",
       "      <th>u</th>\n",
       "      <th>g</th>\n",
       "      <th>class_enc</th>\n",
       "      <th>pred</th>\n",
       "    </tr>\n",
       "  </thead>\n",
       "  <tbody>\n",
       "    <tr>\n",
       "      <th>0</th>\n",
       "      <td>0.374756</td>\n",
       "      <td>17.98124</td>\n",
       "      <td>18.31696</td>\n",
       "      <td>5.529741e+17</td>\n",
       "      <td>491</td>\n",
       "      <td>18.96537</td>\n",
       "      <td>51942</td>\n",
       "      <td>22.13367</td>\n",
       "      <td>20.84772</td>\n",
       "      <td>GALAXY</td>\n",
       "      <td>GALAXY</td>\n",
       "    </tr>\n",
       "    <tr>\n",
       "      <th>1</th>\n",
       "      <td>0.662310</td>\n",
       "      <td>18.83176</td>\n",
       "      <td>19.08481</td>\n",
       "      <td>9.390322e+17</td>\n",
       "      <td>834</td>\n",
       "      <td>19.66170</td>\n",
       "      <td>52316</td>\n",
       "      <td>25.44243</td>\n",
       "      <td>20.77028</td>\n",
       "      <td>GALAXY</td>\n",
       "      <td>GALAXY</td>\n",
       "    </tr>\n",
       "    <tr>\n",
       "      <th>2</th>\n",
       "      <td>0.320806</td>\n",
       "      <td>18.49419</td>\n",
       "      <td>18.90489</td>\n",
       "      <td>1.427672e+18</td>\n",
       "      <td>1268</td>\n",
       "      <td>19.59078</td>\n",
       "      <td>52933</td>\n",
       "      <td>24.91692</td>\n",
       "      <td>21.27143</td>\n",
       "      <td>GALAXY</td>\n",
       "      <td>GALAXY</td>\n",
       "    </tr>\n",
       "    <tr>\n",
       "      <th>3</th>\n",
       "      <td>0.346654</td>\n",
       "      <td>17.73204</td>\n",
       "      <td>18.16925</td>\n",
       "      <td>1.427681e+18</td>\n",
       "      <td>1268</td>\n",
       "      <td>18.83662</td>\n",
       "      <td>52933</td>\n",
       "      <td>23.01294</td>\n",
       "      <td>20.46514</td>\n",
       "      <td>GALAXY</td>\n",
       "      <td>GALAXY</td>\n",
       "    </tr>\n",
       "    <tr>\n",
       "      <th>4</th>\n",
       "      <td>0.089251</td>\n",
       "      <td>16.97431</td>\n",
       "      <td>17.14015</td>\n",
       "      <td>1.567391e+18</td>\n",
       "      <td>1392</td>\n",
       "      <td>17.46046</td>\n",
       "      <td>52822</td>\n",
       "      <td>19.18550</td>\n",
       "      <td>18.02785</td>\n",
       "      <td>GALAXY</td>\n",
       "      <td>GALAXY</td>\n",
       "    </tr>\n",
       "  </tbody>\n",
       "</table>\n",
       "</div>"
      ],
      "text/plain": [
       "   redshift         z         i   spec_obj_ID  plate         r    MJD  \\\n",
       "0  0.374756  17.98124  18.31696  5.529741e+17    491  18.96537  51942   \n",
       "1  0.662310  18.83176  19.08481  9.390322e+17    834  19.66170  52316   \n",
       "2  0.320806  18.49419  18.90489  1.427672e+18   1268  19.59078  52933   \n",
       "3  0.346654  17.73204  18.16925  1.427681e+18   1268  18.83662  52933   \n",
       "4  0.089251  16.97431  17.14015  1.567391e+18   1392  17.46046  52822   \n",
       "\n",
       "          u         g class_enc    pred  \n",
       "0  22.13367  20.84772    GALAXY  GALAXY  \n",
       "1  25.44243  20.77028    GALAXY  GALAXY  \n",
       "2  24.91692  21.27143    GALAXY  GALAXY  \n",
       "3  23.01294  20.46514    GALAXY  GALAXY  \n",
       "4  19.18550  18.02785    GALAXY  GALAXY  "
      ]
     },
     "execution_count": 55,
     "metadata": {},
     "output_type": "execute_result"
    }
   ],
   "source": [
    "df_test['class_enc'] = df_test['class_enc'].map(t1)\n",
    "df_test['pred'] = df_test['pred'].map(t1)\n",
    "df_test.head()"
   ]
  },
  {
   "cell_type": "code",
   "execution_count": null,
   "id": "002abdb9",
   "metadata": {
    "papermill": {
     "duration": 0.045801,
     "end_time": "2022-01-17T00:49:33.453777",
     "exception": false,
     "start_time": "2022-01-17T00:49:33.407976",
     "status": "completed"
    },
    "tags": []
   },
   "outputs": [],
   "source": []
  }
 ],
 "metadata": {
  "kernelspec": {
   "display_name": "Python 3",
   "language": "python",
   "name": "python3"
  },
  "language_info": {
   "codemirror_mode": {
    "name": "ipython",
    "version": 3
   },
   "file_extension": ".py",
   "mimetype": "text/x-python",
   "name": "python",
   "nbconvert_exporter": "python",
   "pygments_lexer": "ipython3",
   "version": "3.7.12"
  },
  "papermill": {
   "default_parameters": {},
   "duration": 41.930072,
   "end_time": "2022-01-17T00:49:34.310458",
   "environment_variables": {},
   "exception": null,
   "input_path": "__notebook__.ipynb",
   "output_path": "__notebook__.ipynb",
   "parameters": {},
   "start_time": "2022-01-17T00:48:52.380386",
   "version": "2.3.3"
  }
 },
 "nbformat": 4,
 "nbformat_minor": 5
}
